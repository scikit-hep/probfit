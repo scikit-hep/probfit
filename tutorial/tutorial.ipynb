{
 "metadata": {
  "name": "tutorial"
 },
 "nbformat": 3,
 "nbformat_minor": 0,
 "worksheets": [
  {
   "cells": [
    {
     "cell_type": "heading",
     "level": 1,
     "metadata": {},
     "source": [
      "probfit Basic Tutorial"
     ]
    },
    {
     "cell_type": "markdown",
     "metadata": {},
     "source": [
      "##Lets start with a simple simple straight line\n",
      "\n",
      "We can't really call this a fitting package without being able to fit a straight line, right?"
     ]
    },
    {
     "cell_type": "code",
     "collapsed": false,
     "input": [
      "from probfit import describe, Chi2Regression\n",
      "import iminuit\n",
      "import numpy as np\n",
      "import numpy.random as npr"
     ],
     "language": "python",
     "metadata": {},
     "outputs": [],
     "prompt_number": 1
    },
    {
     "cell_type": "code",
     "collapsed": false,
     "input": [
      "#lets make s straight line with gaussian(mu=0,sigma=1) noise\n",
      "npr.seed(0)\n",
      "x = linspace(0,10,20) \n",
      "y = 3*x+15+ randn(20)\n",
      "err = np.array([1]*20)\n",
      "errorbar(x,y,err,fmt='.');"
     ],
     "language": "python",
     "metadata": {},
     "outputs": [
      {
       "output_type": "display_data",
       "png": "[encoded data removed]",
       "text": [
        "<matplotlib.figure.Figure at 0x1050e2450>"
       ]
      }
     ],
     "prompt_number": 2
    },
    {
     "cell_type": "code",
     "collapsed": false,
     "input": [
      "#lets define our line\n",
      "#first argument has to be independent variable\n",
      "#arguments after that are shape parameters\n",
      "def line(x,m,c): #define it to be parabolic or whatever you like\n",
      "    return m*x+c\n",
      "#We can make it faster but for this example this is plentily fast.\n",
      "#We will talk about speeding things up later(you will need cython)"
     ],
     "language": "python",
     "metadata": {},
     "outputs": [],
     "prompt_number": 3
    },
    {
     "cell_type": "code",
     "collapsed": false,
     "input": [
      "describe(line)"
     ],
     "language": "python",
     "metadata": {},
     "outputs": [
      {
       "output_type": "pyout",
       "prompt_number": 4,
       "text": [
        "['x', 'm', 'c']"
       ]
      }
     ],
     "prompt_number": 4
    },
    {
     "cell_type": "code",
     "collapsed": false,
     "input": [
      "#cost function\n",
      "chi2 = Chi2Regression(line,x,y,err)"
     ],
     "language": "python",
     "metadata": {},
     "outputs": [],
     "prompt_number": 5
    },
    {
     "cell_type": "code",
     "collapsed": false,
     "input": [
      "#Chi^2 regression is just a callable object nothing special about it\n",
      "describe(chi2)"
     ],
     "language": "python",
     "metadata": {},
     "outputs": [
      {
       "output_type": "pyout",
       "prompt_number": 6,
       "text": [
        "['m', 'c']"
       ]
      }
     ],
     "prompt_number": 6
    },
    {
     "cell_type": "code",
     "collapsed": false,
     "input": [
      "#minimize it\n",
      "#yes it gives you a heads up that you didn't give it initial value\n",
      "#we can ignore it for now\n",
      "minimizer = iminuit.Minuit(chi2) #see iminuit tutorial on how to give initial value/range/error\n",
      "minimizer.migrad(); #very stable robust minimizer\n",
      "#you can look at your terminal to see what it is doing;"
     ],
     "language": "python",
     "metadata": {},
     "outputs": [
      {
       "output_type": "stream",
       "stream": "stderr",
       "text": [
        "-c:4: InitialParamWarning: Parameter m does not have initial value. Assume 0.\n",
        "-c:4: InitialParamWarning: Parameter m is floating but does not have initial step size. Assume 1.\n",
        "-c:4: InitialParamWarning: Parameter c does not have initial value. Assume 0.\n",
        "-c:4: InitialParamWarning: Parameter c is floating but does not have initial step size. Assume 1.\n"
       ]
      },
      {
       "html": [
        "<hr>"
       ],
       "output_type": "display_data"
      },
      {
       "html": [
        "\n",
        "        <table>\n",
        "            <tr>\n",
        "                <td title=\"Minimum value of function\">FCN = 12.0738531135</td>\n",
        "                <td title=\"Total number of call to FCN so far\">TOTAL NCALL = 36</td>\n",
        "                <td title=\"Number of call in last migrad\">NCALLS = 36</td>\n",
        "            </tr>\n",
        "            <tr>\n",
        "                <td title=\"Estimated distance to minimum\">EDM = 1.10886029888e-21</td>\n",
        "                <td title=\"Maximum EDM definition of convergence\">GOAL EDM = 1e-05</td>\n",
        "                <td title=\"Error def. Amount of increase in FCN to be defined as 1 standard deviation\">\n",
        "                UP = 1.0</td>\n",
        "            </tr>\n",
        "        </table>\n",
        "        \n",
        "        <table>\n",
        "            <tr>\n",
        "                <td align=\"center\" title=\"Validity of the migrad call\">Valid</td>\n",
        "                <td align=\"center\" title=\"Validity of parameters\">Valid Param</td>\n",
        "                <td align=\"center\" title=\"Is Covariance matrix accurate?\">Accurate Covar</td>\n",
        "                <td align=\"center\" title=\"Positive definiteness of covariance matrix\">PosDef</td>\n",
        "                <td align=\"center\" title=\"Was covariance matrix made posdef by adding diagonal element\">Made PosDef</td>\n",
        "            </tr>\n",
        "            <tr>\n",
        "                <td align=\"center\" style=\"background-color:#92CCA6\">True</td>\n",
        "                <td align=\"center\" style=\"background-color:#92CCA6\">True</td>\n",
        "                <td align=\"center\" style=\"background-color:#92CCA6\">True</td>\n",
        "                <td align=\"center\" style=\"background-color:#92CCA6\">True</td>\n",
        "                <td align=\"center\" style=\"background-color:#92CCA6\">False</td>\n",
        "            </tr>\n",
        "            <tr>\n",
        "                <td align=\"center\" title=\"Was last hesse call fail?\">Hesse Fail</td>\n",
        "                <td align=\"center\" title=\"Validity of covariance\">HasCov</td>\n",
        "                <td align=\"center\" title=\"Is EDM above goal EDM?\">Above EDM</td>\n",
        "                <td align=\"center\"></td>\n",
        "                <td align=\"center\" title=\"Did last migrad call reach max call limit?\">Reach calllim</td>\n",
        "            </tr>\n",
        "            <tr>\n",
        "                <td align=\"center\" style=\"background-color:#92CCA6\">False</td>\n",
        "                <td align=\"center\" style=\"background-color:#92CCA6\">True</td>\n",
        "                <td align=\"center\" style=\"background-color:#92CCA6\">False</td>\n",
        "                <td align=\"center\"></td>\n",
        "                <td align=\"center\" style=\"background-color:#92CCA6\">False</td>\n",
        "            </tr>\n",
        "        </table>\n",
        "        "
       ],
       "output_type": "display_data"
      },
      {
       "html": [
        "\n",
        "        <table>\n",
        "            <tr>\n",
        "                <td><a href=\"#\" onclick=\"$('#FwnnPTsShM').toggle()\">+</a></td>\n",
        "                <td title=\"Variable name\">Name</td>\n",
        "                <td title=\"Value of parameter\">Value</td>\n",
        "                <td title=\"Parabolic error\">Parab Error</td>\n",
        "                <td title=\"Minos lower error\">Minos Error-</td>\n",
        "                <td title=\"Minos upper error\">Minos Error+</td>\n",
        "                <td title=\"Lower limit of the parameter\">Limit-</td>\n",
        "                <td title=\"Upper limit of the parameter\">Limit+</td>\n",
        "                <td title=\"Is the parameter fixed in the fit\">FIXED</td>\n",
        "            </tr>\n",
        "        \n",
        "            <tr>\n",
        "                <td>1</td>\n",
        "                <td>m</td>\n",
        "                <td>2.886277e+00</td>\n",
        "                <td>7.367884e-02</td>\n",
        "                <td>0.000000e+00</td>\n",
        "                <td>0.000000e+00</td>\n",
        "                <td></td>\n",
        "                <td></td>\n",
        "                <td></td>\n",
        "            </tr>\n",
        "            \n",
        "            <tr>\n",
        "                <td>2</td>\n",
        "                <td>c</td>\n",
        "                <td>1.613795e+01</td>\n",
        "                <td>4.309458e-01</td>\n",
        "                <td>0.000000e+00</td>\n",
        "                <td>0.000000e+00</td>\n",
        "                <td></td>\n",
        "                <td></td>\n",
        "                <td></td>\n",
        "            </tr>\n",
        "            \n",
        "            </table>\n",
        "        \n",
        "            <pre id=\"FwnnPTsShM\" style=\"display:none;\">\n",
        "            <textarea rows=\"10\" cols=\"50\" onclick=\"this.select()\" readonly>\\begin{tabular}{|c|r|r|r|r|r|r|r|c|}\n",
        "\\hline\n",
        " & Name & Value & Para Error & Error+ & Error- & Limit+ & Limit- & FIXED\\\\\n",
        "\\hline\n",
        "1 & m & 2.886e+00 & 7.368e-02 &  &  &  &  & \\\\\n",
        "\\hline\n",
        "2 & c & 1.614e+01 & 4.309e-01 &  &  &  &  & \\\\\n",
        "\\hline\n",
        "\\end{tabular}</textarea>\n",
        "            </pre>\n",
        "            "
       ],
       "output_type": "display_data"
      },
      {
       "html": [
        "<hr>"
       ],
       "output_type": "display_data"
      }
     ],
     "prompt_number": 7
    },
    {
     "cell_type": "code",
     "collapsed": false,
     "input": [
      "#lets see our results\n",
      "print minimizer.values\n",
      "print minimizer.errors"
     ],
     "language": "python",
     "metadata": {},
     "outputs": [
      {
       "output_type": "stream",
       "stream": "stdout",
       "text": [
        "{'c': 16.137947520534624, 'm': 2.8862774144823855}\n",
        "{'c': 0.4309458211385722, 'm': 0.07367884284273937}\n"
       ]
      }
     ],
     "prompt_number": 8
    },
    {
     "cell_type": "code",
     "collapsed": false,
     "input": [
      "#or a pretty printing\n",
      "minimizer.print_fmin()"
     ],
     "language": "python",
     "metadata": {},
     "outputs": [
      {
       "html": [
        "<hr>"
       ],
       "output_type": "display_data"
      },
      {
       "html": [
        "\n",
        "        <table>\n",
        "            <tr>\n",
        "                <td title=\"Minimum value of function\">FCN = 12.0738531135</td>\n",
        "                <td title=\"Total number of call to FCN so far\">TOTAL NCALL = 36</td>\n",
        "                <td title=\"Number of call in last migrad\">NCALLS = 36</td>\n",
        "            </tr>\n",
        "            <tr>\n",
        "                <td title=\"Estimated distance to minimum\">EDM = 1.10886029888e-21</td>\n",
        "                <td title=\"Maximum EDM definition of convergence\">GOAL EDM = 1e-05</td>\n",
        "                <td title=\"Error def. Amount of increase in FCN to be defined as 1 standard deviation\">\n",
        "                UP = 1.0</td>\n",
        "            </tr>\n",
        "        </table>\n",
        "        \n",
        "        <table>\n",
        "            <tr>\n",
        "                <td align=\"center\" title=\"Validity of the migrad call\">Valid</td>\n",
        "                <td align=\"center\" title=\"Validity of parameters\">Valid Param</td>\n",
        "                <td align=\"center\" title=\"Is Covariance matrix accurate?\">Accurate Covar</td>\n",
        "                <td align=\"center\" title=\"Positive definiteness of covariance matrix\">PosDef</td>\n",
        "                <td align=\"center\" title=\"Was covariance matrix made posdef by adding diagonal element\">Made PosDef</td>\n",
        "            </tr>\n",
        "            <tr>\n",
        "                <td align=\"center\" style=\"background-color:#92CCA6\">True</td>\n",
        "                <td align=\"center\" style=\"background-color:#92CCA6\">True</td>\n",
        "                <td align=\"center\" style=\"background-color:#92CCA6\">True</td>\n",
        "                <td align=\"center\" style=\"background-color:#92CCA6\">True</td>\n",
        "                <td align=\"center\" style=\"background-color:#92CCA6\">False</td>\n",
        "            </tr>\n",
        "            <tr>\n",
        "                <td align=\"center\" title=\"Was last hesse call fail?\">Hesse Fail</td>\n",
        "                <td align=\"center\" title=\"Validity of covariance\">HasCov</td>\n",
        "                <td align=\"center\" title=\"Is EDM above goal EDM?\">Above EDM</td>\n",
        "                <td align=\"center\"></td>\n",
        "                <td align=\"center\" title=\"Did last migrad call reach max call limit?\">Reach calllim</td>\n",
        "            </tr>\n",
        "            <tr>\n",
        "                <td align=\"center\" style=\"background-color:#92CCA6\">False</td>\n",
        "                <td align=\"center\" style=\"background-color:#92CCA6\">True</td>\n",
        "                <td align=\"center\" style=\"background-color:#92CCA6\">False</td>\n",
        "                <td align=\"center\"></td>\n",
        "                <td align=\"center\" style=\"background-color:#92CCA6\">False</td>\n",
        "            </tr>\n",
        "        </table>\n",
        "        "
       ],
       "output_type": "display_data"
      },
      {
       "html": [
        "\n",
        "        <table>\n",
        "            <tr>\n",
        "                <td><a href=\"#\" onclick=\"$('#WMBUrclxMk').toggle()\">+</a></td>\n",
        "                <td title=\"Variable name\">Name</td>\n",
        "                <td title=\"Value of parameter\">Value</td>\n",
        "                <td title=\"Parabolic error\">Parab Error</td>\n",
        "                <td title=\"Minos lower error\">Minos Error-</td>\n",
        "                <td title=\"Minos upper error\">Minos Error+</td>\n",
        "                <td title=\"Lower limit of the parameter\">Limit-</td>\n",
        "                <td title=\"Upper limit of the parameter\">Limit+</td>\n",
        "                <td title=\"Is the parameter fixed in the fit\">FIXED</td>\n",
        "            </tr>\n",
        "        \n",
        "            <tr>\n",
        "                <td>1</td>\n",
        "                <td>m</td>\n",
        "                <td>2.886277e+00</td>\n",
        "                <td>7.367884e-02</td>\n",
        "                <td>0.000000e+00</td>\n",
        "                <td>0.000000e+00</td>\n",
        "                <td></td>\n",
        "                <td></td>\n",
        "                <td></td>\n",
        "            </tr>\n",
        "            \n",
        "            <tr>\n",
        "                <td>2</td>\n",
        "                <td>c</td>\n",
        "                <td>1.613795e+01</td>\n",
        "                <td>4.309458e-01</td>\n",
        "                <td>0.000000e+00</td>\n",
        "                <td>0.000000e+00</td>\n",
        "                <td></td>\n",
        "                <td></td>\n",
        "                <td></td>\n",
        "            </tr>\n",
        "            \n",
        "            </table>\n",
        "        \n",
        "            <pre id=\"WMBUrclxMk\" style=\"display:none;\">\n",
        "            <textarea rows=\"10\" cols=\"50\" onclick=\"this.select()\" readonly>\\begin{tabular}{|c|r|r|r|r|r|r|r|c|}\n",
        "\\hline\n",
        " & Name & Value & Para Error & Error+ & Error- & Limit+ & Limit- & FIXED\\\\\n",
        "\\hline\n",
        "1 & m & 2.886e+00 & 7.368e-02 &  &  &  &  & \\\\\n",
        "\\hline\n",
        "2 & c & 1.614e+01 & 4.309e-01 &  &  &  &  & \\\\\n",
        "\\hline\n",
        "\\end{tabular}</textarea>\n",
        "            </pre>\n",
        "            "
       ],
       "output_type": "display_data"
      },
      {
       "html": [
        "<hr>"
       ],
       "output_type": "display_data"
      }
     ],
     "prompt_number": 9
    },
    {
     "cell_type": "markdown",
     "metadata": {},
     "source": [
      "####Parabolic error\n",
      "is calculated using the second derivative at the minimum\n",
      "This is good in most cases where the uncertainty is symmetric not much correlation\n",
      "exists. Migrad usually got this accurately but if you want ot be sure\n",
      "call minimizer.hesse() after migrad\n",
      "####Minos Error\n",
      "is obtained by scanning chi^2 and likelihood profile and find the the point\n",
      "where chi^2 is increased by 1 or -ln likelihood is increased by 0.5\n",
      "This error is generally asymmetric and is correct in all case.\n",
      "This is quite computationally expensive if you have many parameter.\n",
      "call minimizer.minos('variablename') after migrad to get this error"
     ]
    },
    {
     "cell_type": "code",
     "collapsed": false,
     "input": [
      "#let's visualize our line\n",
      "chi2.draw(minimizer)\n",
      "#looks good"
     ],
     "language": "python",
     "metadata": {},
     "outputs": [
      {
       "output_type": "display_data",
       "png": "[encoded data removed]",
       "text": [
        "<matplotlib.figure.Figure at 0x105305890>"
       ]
      }
     ],
     "prompt_number": 10
    },
    {
     "cell_type": "code",
     "collapsed": false,
     "input": [
      "#Sometime we want the error matrix\n",
      "print 'error matrix:\\n', minimizer.matrix()\n",
      "#or correlation matrix\n",
      "print 'correlation matrix:\\n', minimizer.matrix(correlation=True)\n",
      "#or a pretty html\n",
      "#despite the method named error_matrix it's actually a correlation matrix\n",
      "minimizer.print_matrix()"
     ],
     "language": "python",
     "metadata": {},
     "outputs": [
      {
       "output_type": "stream",
       "stream": "stdout",
       "text": [
        "error matrix:\n",
        "((0.005428571882645087, -0.027142859751431703), (-0.027142859751431703, 0.18571430075679826))\n",
        "correlation matrix:\n",
        "((1.0, -0.8548504260481388), (-0.8548504260481388, 1.0))\n"
       ]
      },
      {
       "html": [
        "\n",
        "            <table>\n",
        "                <tr>\n",
        "                    <td><a onclick=\"$('#HJwKfanUIL').toggle()\" href=\"#\">+</a></td>\n",
        "        \n",
        "            <td>\n",
        "            <div style=\"width:20px;position:relative; width: -moz-fit-content;\">\n",
        "            <div style=\"display:inline-block;-webkit-writing-mode:vertical-rl;-moz-writing-mode: vertical-rl;writing-mode: vertical-rl;\">\n",
        "            m\n",
        "            </div>\n",
        "            </div>\n",
        "            </td>\n",
        "            \n",
        "            <td>\n",
        "            <div style=\"width:20px;position:relative; width: -moz-fit-content;\">\n",
        "            <div style=\"display:inline-block;-webkit-writing-mode:vertical-rl;-moz-writing-mode: vertical-rl;writing-mode: vertical-rl;\">\n",
        "            c\n",
        "            </div>\n",
        "            </div>\n",
        "            </td>\n",
        "            \n",
        "                </tr>\n",
        "                \n",
        "            <tr>\n",
        "                <td>m</td>\n",
        "            \n",
        "                <td style=\"background-color:rgb(255,117,117)\">\n",
        "                1.00\n",
        "                </td>\n",
        "                \n",
        "                <td style=\"background-color:rgb(242,137,127)\">\n",
        "                -0.85\n",
        "                </td>\n",
        "                \n",
        "            </tr>\n",
        "            \n",
        "            <tr>\n",
        "                <td>c</td>\n",
        "            \n",
        "                <td style=\"background-color:rgb(242,137,127)\">\n",
        "                -0.85\n",
        "                </td>\n",
        "                \n",
        "                <td style=\"background-color:rgb(255,117,117)\">\n",
        "                1.00\n",
        "                </td>\n",
        "                \n",
        "            </tr>\n",
        "            </table>\n",
        "\n",
        "            <pre id=\"HJwKfanUIL\" style=\"display:none;\">\n",
        "            <textarea rows=\"13\" cols=\"50\" onclick=\"this.select()\" readonly>%\\usepackage[table]{xcolor} % include this for color\n",
        "%\\usepackage{rotating} % include this for rotate header\n",
        "%\\documentclass[xcolor=table]{beamer} % for beamer\n",
        "\\begin{tabular}{|c|c|c|}\n",
        "\\hline\n",
        "\\rotatebox{90}{} & \\rotatebox{90}{m} & \\rotatebox{90}{c}\\\\\n",
        "\\hline\n",
        "m & \\cellcolor[RGB]{255,117,117} 1.00 & \\cellcolor[RGB]{242,137,127} -0.85\\\\\n",
        "\\hline\n",
        "c & \\cellcolor[RGB]{242,137,127} -0.85 & \\cellcolor[RGB]{255,117,117} 1.00\\\\\n",
        "\\hline\n",
        "\\end{tabular}</textarea>\n",
        "            </pre>\n",
        "            "
       ],
       "output_type": "display_data"
      }
     ],
     "prompt_number": 11
    },
    {
     "cell_type": "markdown",
     "metadata": {},
     "source": [
      "##Simple gaussian distribution fit\n",
      "In high energy physics, we usually want to fit a distribution to a histogram. Let's look at simple gaussian distribution"
     ]
    },
    {
     "cell_type": "code",
     "collapsed": false,
     "input": [
      "import numpy.random as npr\n",
      "import iminuit\n",
      "from probfit import BinnedLH"
     ],
     "language": "python",
     "metadata": {},
     "outputs": [],
     "prompt_number": 12
    },
    {
     "cell_type": "code",
     "collapsed": false,
     "input": [
      "#First lets make our data\n",
      "npr.seed(0)\n",
      "data = randn(10000)*4+1\n",
      "#sigma = 4 and mean = 1\n",
      "hist(data,bins=100,histtype='step');"
     ],
     "language": "python",
     "metadata": {},
     "outputs": [
      {
       "output_type": "display_data",
       "png": "[encoded data removed]",
       "text": [
        "<matplotlib.figure.Figure at 0x105330410>"
       ]
      }
     ],
     "prompt_number": 13
    },
    {
     "cell_type": "markdown",
     "metadata": {},
     "source": [
      "Here is our PDF/model"
     ]
    },
    {
     "cell_type": "code",
     "collapsed": false,
     "input": [
      "#normalized gaussian\n",
      "def myPDF(x,mu,sigma):\n",
      "    return 1/sqrt(2*pi)/sigma*exp(-(x-mu)**2/2./sigma**2)"
     ],
     "language": "python",
     "metadata": {},
     "outputs": [],
     "prompt_number": 14
    },
    {
     "cell_type": "code",
     "collapsed": false,
     "input": [
      "#build your cost function here we use binned likelihood\n",
      "cost = BinnedLH(myPDF,data)"
     ],
     "language": "python",
     "metadata": {},
     "outputs": [],
     "prompt_number": 15
    },
    {
     "cell_type": "code",
     "collapsed": false,
     "input": [
      "#Let's fit\n",
      "minimizer = iminuit.Minuit(cost,sigma=3.) #notice here that we give initial value to sigma\n",
      "#but most of the time we want to see it before fitting\n",
      "cost.draw(minimizer)"
     ],
     "language": "python",
     "metadata": {},
     "outputs": [
      {
       "output_type": "stream",
       "stream": "stderr",
       "text": [
        "-c:2: InitialParamWarning: Parameter mu does not have initial value. Assume 0.\n",
        "-c:2: InitialParamWarning: Parameter mu is floating but does not have initial step size. Assume 1.\n",
        "-c:2: InitialParamWarning: Parameter sigma is floating but does not have initial step size. Assume 1.\n"
       ]
      },
      {
       "output_type": "display_data",
       "png": "[encoded data removed]",
       "text": [
        "<matplotlib.figure.Figure at 0x104f0dc50>"
       ]
      }
     ],
     "prompt_number": 16
    },
    {
     "cell_type": "code",
     "collapsed": false,
     "input": [
      "minimizer.migrad() #very stable minimization algorithm\n",
      "#like in all binned fit with long zero tail. It will have to do something about the zero bin\n",
      "#dist_fit handle them gracefully but will give you a head up"
     ],
     "language": "python",
     "metadata": {},
     "outputs": [
      {
       "output_type": "stream",
       "stream": "stderr",
       "text": [
        "-c:1: LogWarning: x is really small return 0\n"
       ]
      },
      {
       "html": [
        "<hr>"
       ],
       "output_type": "display_data"
      },
      {
       "html": [
        "\n",
        "        <table>\n",
        "            <tr>\n",
        "                <td title=\"Minimum value of function\">FCN = 20.9368166553</td>\n",
        "                <td title=\"Total number of call to FCN so far\">TOTAL NCALL = 46</td>\n",
        "                <td title=\"Number of call in last migrad\">NCALLS = 46</td>\n",
        "            </tr>\n",
        "            <tr>\n",
        "                <td title=\"Estimated distance to minimum\">EDM = 1.45381817467e-06</td>\n",
        "                <td title=\"Maximum EDM definition of convergence\">GOAL EDM = 5e-06</td>\n",
        "                <td title=\"Error def. Amount of increase in FCN to be defined as 1 standard deviation\">\n",
        "                UP = 0.5</td>\n",
        "            </tr>\n",
        "        </table>\n",
        "        \n",
        "        <table>\n",
        "            <tr>\n",
        "                <td align=\"center\" title=\"Validity of the migrad call\">Valid</td>\n",
        "                <td align=\"center\" title=\"Validity of parameters\">Valid Param</td>\n",
        "                <td align=\"center\" title=\"Is Covariance matrix accurate?\">Accurate Covar</td>\n",
        "                <td align=\"center\" title=\"Positive definiteness of covariance matrix\">PosDef</td>\n",
        "                <td align=\"center\" title=\"Was covariance matrix made posdef by adding diagonal element\">Made PosDef</td>\n",
        "            </tr>\n",
        "            <tr>\n",
        "                <td align=\"center\" style=\"background-color:#92CCA6\">True</td>\n",
        "                <td align=\"center\" style=\"background-color:#92CCA6\">True</td>\n",
        "                <td align=\"center\" style=\"background-color:#92CCA6\">True</td>\n",
        "                <td align=\"center\" style=\"background-color:#92CCA6\">True</td>\n",
        "                <td align=\"center\" style=\"background-color:#92CCA6\">False</td>\n",
        "            </tr>\n",
        "            <tr>\n",
        "                <td align=\"center\" title=\"Was last hesse call fail?\">Hesse Fail</td>\n",
        "                <td align=\"center\" title=\"Validity of covariance\">HasCov</td>\n",
        "                <td align=\"center\" title=\"Is EDM above goal EDM?\">Above EDM</td>\n",
        "                <td align=\"center\"></td>\n",
        "                <td align=\"center\" title=\"Did last migrad call reach max call limit?\">Reach calllim</td>\n",
        "            </tr>\n",
        "            <tr>\n",
        "                <td align=\"center\" style=\"background-color:#92CCA6\">False</td>\n",
        "                <td align=\"center\" style=\"background-color:#92CCA6\">True</td>\n",
        "                <td align=\"center\" style=\"background-color:#92CCA6\">False</td>\n",
        "                <td align=\"center\"></td>\n",
        "                <td align=\"center\" style=\"background-color:#92CCA6\">False</td>\n",
        "            </tr>\n",
        "        </table>\n",
        "        "
       ],
       "output_type": "display_data"
      },
      {
       "html": [
        "\n",
        "        <table>\n",
        "            <tr>\n",
        "                <td><a href=\"#\" onclick=\"$('#TUkZaWUWpK').toggle()\">+</a></td>\n",
        "                <td title=\"Variable name\">Name</td>\n",
        "                <td title=\"Value of parameter\">Value</td>\n",
        "                <td title=\"Parabolic error\">Parab Error</td>\n",
        "                <td title=\"Minos lower error\">Minos Error-</td>\n",
        "                <td title=\"Minos upper error\">Minos Error+</td>\n",
        "                <td title=\"Lower limit of the parameter\">Limit-</td>\n",
        "                <td title=\"Upper limit of the parameter\">Limit+</td>\n",
        "                <td title=\"Is the parameter fixed in the fit\">FIXED</td>\n",
        "            </tr>\n",
        "        \n",
        "            <tr>\n",
        "                <td>1</td>\n",
        "                <td>mu</td>\n",
        "                <td>9.258754e-01</td>\n",
        "                <td>3.962599e-02</td>\n",
        "                <td>0.000000e+00</td>\n",
        "                <td>0.000000e+00</td>\n",
        "                <td></td>\n",
        "                <td></td>\n",
        "                <td></td>\n",
        "            </tr>\n",
        "            \n",
        "            <tr>\n",
        "                <td>2</td>\n",
        "                <td>sigma</td>\n",
        "                <td>3.952381e+00</td>\n",
        "                <td>2.826741e-02</td>\n",
        "                <td>0.000000e+00</td>\n",
        "                <td>0.000000e+00</td>\n",
        "                <td></td>\n",
        "                <td></td>\n",
        "                <td></td>\n",
        "            </tr>\n",
        "            \n",
        "            </table>\n",
        "        \n",
        "            <pre id=\"TUkZaWUWpK\" style=\"display:none;\">\n",
        "            <textarea rows=\"10\" cols=\"50\" onclick=\"this.select()\" readonly>\\begin{tabular}{|c|r|r|r|r|r|r|r|c|}\n",
        "\\hline\n",
        " & Name & Value & Para Error & Error+ & Error- & Limit+ & Limit- & FIXED\\\\\n",
        "\\hline\n",
        "1 & $\\mu$ & 9.259e-01 & 3.963e-02 &  &  &  &  & \\\\\n",
        "\\hline\n",
        "2 & $\\sigma$ & 3.952e+00 & 2.827e-02 &  &  &  &  & \\\\\n",
        "\\hline\n",
        "\\end{tabular}</textarea>\n",
        "            </pre>\n",
        "            "
       ],
       "output_type": "display_data"
      },
      {
       "html": [
        "<hr>"
       ],
       "output_type": "display_data"
      },
      {
       "output_type": "pyout",
       "prompt_number": 17,
       "text": [
        "({'hesse_failed': False, 'has_reached_call_limit': False, 'has_accurate_covar': True, 'has_posdef_covar': True, 'up': 0.5, 'edm': 1.4538181746701e-06, 'is_valid': True, 'is_above_max_edm': False, 'has_covariance': True, 'has_made_posdef_covar': False, 'has_valid_parameters': True, 'fval': 20.93681665525323, 'nfcn': 46},\n",
        " [{'is_const': False, 'name': 'mu', 'has_limits': False, 'value': 0.9258754454759824, 'number': 0L, 'has_lower_limit': False, 'upper_limit': 0.0, 'lower_limit': 0.0, 'has_upper_limit': False, 'error': 0.039625990223002394, 'is_fixed': False},\n",
        "  {'is_const': False, 'name': 'sigma', 'has_limits': False, 'value': 3.952381323607735, 'number': 1L, 'has_lower_limit': False, 'upper_limit': 0.0, 'lower_limit': 0.0, 'has_upper_limit': False, 'error': 0.028267407272399365, 'is_fixed': False}])"
       ]
      }
     ],
     "prompt_number": 17
    },
    {
     "cell_type": "code",
     "collapsed": false,
     "input": [
      "#you can see if your fit make any sense too\n",
      "cost.draw(minimizer)#uncertainty is given by symetric poisson"
     ],
     "language": "python",
     "metadata": {},
     "outputs": [
      {
       "output_type": "display_data",
       "png": "[encoded data removed]",
       "text": [
        "<matplotlib.figure.Figure at 0x105305910>"
       ]
      }
     ],
     "prompt_number": 18
    },
    {
     "cell_type": "code",
     "collapsed": false,
     "input": [
      "#let's see the result\n",
      "print 'Value:', minimizer.values\n",
      "print 'Error:', minimizer.errors"
     ],
     "language": "python",
     "metadata": {},
     "outputs": [
      {
       "output_type": "stream",
       "stream": "stdout",
       "text": [
        "Value: {'mu': 0.9258754454759824, 'sigma': 3.952381323607735}\n",
        "Error: {'mu': 0.039625990223002394, 'sigma': 0.028267407272399365}\n"
       ]
      }
     ],
     "prompt_number": 19
    },
    {
     "cell_type": "code",
     "collapsed": false,
     "input": [
      "#That printout can get out of hand quickly\n",
      "minimizer.print_fmin()\n",
      "#and correlation matrix\n",
      "#will not display well in firefox(tell them to fix writing-mode:)\n",
      "minimizer.print_matrix()"
     ],
     "language": "python",
     "metadata": {},
     "outputs": [
      {
       "html": [
        "<hr>"
       ],
       "output_type": "display_data"
      },
      {
       "html": [
        "\n",
        "        <table>\n",
        "            <tr>\n",
        "                <td title=\"Minimum value of function\">FCN = 20.9368166553</td>\n",
        "                <td title=\"Total number of call to FCN so far\">TOTAL NCALL = 46</td>\n",
        "                <td title=\"Number of call in last migrad\">NCALLS = 46</td>\n",
        "            </tr>\n",
        "            <tr>\n",
        "                <td title=\"Estimated distance to minimum\">EDM = 1.45381817467e-06</td>\n",
        "                <td title=\"Maximum EDM definition of convergence\">GOAL EDM = 5e-06</td>\n",
        "                <td title=\"Error def. Amount of increase in FCN to be defined as 1 standard deviation\">\n",
        "                UP = 0.5</td>\n",
        "            </tr>\n",
        "        </table>\n",
        "        \n",
        "        <table>\n",
        "            <tr>\n",
        "                <td align=\"center\" title=\"Validity of the migrad call\">Valid</td>\n",
        "                <td align=\"center\" title=\"Validity of parameters\">Valid Param</td>\n",
        "                <td align=\"center\" title=\"Is Covariance matrix accurate?\">Accurate Covar</td>\n",
        "                <td align=\"center\" title=\"Positive definiteness of covariance matrix\">PosDef</td>\n",
        "                <td align=\"center\" title=\"Was covariance matrix made posdef by adding diagonal element\">Made PosDef</td>\n",
        "            </tr>\n",
        "            <tr>\n",
        "                <td align=\"center\" style=\"background-color:#92CCA6\">True</td>\n",
        "                <td align=\"center\" style=\"background-color:#92CCA6\">True</td>\n",
        "                <td align=\"center\" style=\"background-color:#92CCA6\">True</td>\n",
        "                <td align=\"center\" style=\"background-color:#92CCA6\">True</td>\n",
        "                <td align=\"center\" style=\"background-color:#92CCA6\">False</td>\n",
        "            </tr>\n",
        "            <tr>\n",
        "                <td align=\"center\" title=\"Was last hesse call fail?\">Hesse Fail</td>\n",
        "                <td align=\"center\" title=\"Validity of covariance\">HasCov</td>\n",
        "                <td align=\"center\" title=\"Is EDM above goal EDM?\">Above EDM</td>\n",
        "                <td align=\"center\"></td>\n",
        "                <td align=\"center\" title=\"Did last migrad call reach max call limit?\">Reach calllim</td>\n",
        "            </tr>\n",
        "            <tr>\n",
        "                <td align=\"center\" style=\"background-color:#92CCA6\">False</td>\n",
        "                <td align=\"center\" style=\"background-color:#92CCA6\">True</td>\n",
        "                <td align=\"center\" style=\"background-color:#92CCA6\">False</td>\n",
        "                <td align=\"center\"></td>\n",
        "                <td align=\"center\" style=\"background-color:#92CCA6\">False</td>\n",
        "            </tr>\n",
        "        </table>\n",
        "        "
       ],
       "output_type": "display_data"
      },
      {
       "html": [
        "\n",
        "        <table>\n",
        "            <tr>\n",
        "                <td><a href=\"#\" onclick=\"$('#kwZWFISkOD').toggle()\">+</a></td>\n",
        "                <td title=\"Variable name\">Name</td>\n",
        "                <td title=\"Value of parameter\">Value</td>\n",
        "                <td title=\"Parabolic error\">Parab Error</td>\n",
        "                <td title=\"Minos lower error\">Minos Error-</td>\n",
        "                <td title=\"Minos upper error\">Minos Error+</td>\n",
        "                <td title=\"Lower limit of the parameter\">Limit-</td>\n",
        "                <td title=\"Upper limit of the parameter\">Limit+</td>\n",
        "                <td title=\"Is the parameter fixed in the fit\">FIXED</td>\n",
        "            </tr>\n",
        "        \n",
        "            <tr>\n",
        "                <td>1</td>\n",
        "                <td>mu</td>\n",
        "                <td>9.258754e-01</td>\n",
        "                <td>3.962599e-02</td>\n",
        "                <td>0.000000e+00</td>\n",
        "                <td>0.000000e+00</td>\n",
        "                <td></td>\n",
        "                <td></td>\n",
        "                <td></td>\n",
        "            </tr>\n",
        "            \n",
        "            <tr>\n",
        "                <td>2</td>\n",
        "                <td>sigma</td>\n",
        "                <td>3.952381e+00</td>\n",
        "                <td>2.826741e-02</td>\n",
        "                <td>0.000000e+00</td>\n",
        "                <td>0.000000e+00</td>\n",
        "                <td></td>\n",
        "                <td></td>\n",
        "                <td></td>\n",
        "            </tr>\n",
        "            \n",
        "            </table>\n",
        "        \n",
        "            <pre id=\"kwZWFISkOD\" style=\"display:none;\">\n",
        "            <textarea rows=\"10\" cols=\"50\" onclick=\"this.select()\" readonly>\\begin{tabular}{|c|r|r|r|r|r|r|r|c|}\n",
        "\\hline\n",
        " & Name & Value & Para Error & Error+ & Error- & Limit+ & Limit- & FIXED\\\\\n",
        "\\hline\n",
        "1 & $\\mu$ & 9.259e-01 & 3.963e-02 &  &  &  &  & \\\\\n",
        "\\hline\n",
        "2 & $\\sigma$ & 3.952e+00 & 2.827e-02 &  &  &  &  & \\\\\n",
        "\\hline\n",
        "\\end{tabular}</textarea>\n",
        "            </pre>\n",
        "            "
       ],
       "output_type": "display_data"
      },
      {
       "html": [
        "<hr>"
       ],
       "output_type": "display_data"
      },
      {
       "html": [
        "\n",
        "            <table>\n",
        "                <tr>\n",
        "                    <td><a onclick=\"$('#NZHmZKmdTm').toggle()\" href=\"#\">+</a></td>\n",
        "        \n",
        "            <td>\n",
        "            <div style=\"width:20px;position:relative; width: -moz-fit-content;\">\n",
        "            <div style=\"display:inline-block;-webkit-writing-mode:vertical-rl;-moz-writing-mode: vertical-rl;writing-mode: vertical-rl;\">\n",
        "            mu\n",
        "            </div>\n",
        "            </div>\n",
        "            </td>\n",
        "            \n",
        "            <td>\n",
        "            <div style=\"width:20px;position:relative; width: -moz-fit-content;\">\n",
        "            <div style=\"display:inline-block;-webkit-writing-mode:vertical-rl;-moz-writing-mode: vertical-rl;writing-mode: vertical-rl;\">\n",
        "            sigma\n",
        "            </div>\n",
        "            </div>\n",
        "            </td>\n",
        "            \n",
        "                </tr>\n",
        "                \n",
        "            <tr>\n",
        "                <td>mu</td>\n",
        "            \n",
        "                <td style=\"background-color:rgb(255,117,117)\">\n",
        "                1.00\n",
        "                </td>\n",
        "                \n",
        "                <td style=\"background-color:rgb(163,254,186)\">\n",
        "                -0.00\n",
        "                </td>\n",
        "                \n",
        "            </tr>\n",
        "            \n",
        "            <tr>\n",
        "                <td>sigma</td>\n",
        "            \n",
        "                <td style=\"background-color:rgb(163,254,186)\">\n",
        "                -0.00\n",
        "                </td>\n",
        "                \n",
        "                <td style=\"background-color:rgb(255,117,117)\">\n",
        "                1.00\n",
        "                </td>\n",
        "                \n",
        "            </tr>\n",
        "            </table>\n",
        "\n",
        "            <pre id=\"NZHmZKmdTm\" style=\"display:none;\">\n",
        "            <textarea rows=\"13\" cols=\"50\" onclick=\"this.select()\" readonly>%\\usepackage[table]{xcolor} % include this for color\n",
        "%\\usepackage{rotating} % include this for rotate header\n",
        "%\\documentclass[xcolor=table]{beamer} % for beamer\n",
        "\\begin{tabular}{|c|c|c|}\n",
        "\\hline\n",
        "\\rotatebox{90}{} & \\rotatebox{90}{$\\mu$} & \\rotatebox{90}{$\\sigma$}\\\\\n",
        "\\hline\n",
        "$\\mu$ & \\cellcolor[RGB]{255,117,117} 1.00 & \\cellcolor[RGB]{163,254,186} -0.00\\\\\n",
        "\\hline\n",
        "$\\sigma$ & \\cellcolor[RGB]{163,254,186} -0.00 & \\cellcolor[RGB]{255,117,117} 1.00\\\\\n",
        "\\hline\n",
        "\\end{tabular}</textarea>\n",
        "            </pre>\n",
        "            "
       ],
       "output_type": "display_data"
      }
     ],
     "prompt_number": 20
    },
    {
     "cell_type": "code",
     "collapsed": false,
     "input": [
      "#how about making sure the error making sense\n",
      "minimizer.draw_mnprofile('mu');"
     ],
     "language": "python",
     "metadata": {},
     "outputs": [
      {
       "output_type": "stream",
       "stream": "stderr",
       "text": [
        "-c:2: LogWarning: x is really small return 0\n"
       ]
      },
      {
       "output_type": "display_data",
       "png": "[encoded data removed]",
       "text": [
        "<matplotlib.figure.Figure at 0x1012785d0>"
       ]
      }
     ],
     "prompt_number": 21
    },
    {
     "cell_type": "code",
     "collapsed": false,
     "input": [
      "#2d contour error\n",
      "#you can notice that it takes sometime to draw\n",
      "#we will this is because our PDF is defined in Python\n",
      "#we will show how to speed this up later\n",
      "minimizer.draw_mncontour('mu','sigma');"
     ],
     "language": "python",
     "metadata": {},
     "outputs": [
      {
       "output_type": "stream",
       "stream": "stderr",
       "text": [
        "/Library/Frameworks/Python.framework/Versions/2.7/lib/python2.7/site-packages/iminuit/_plotting.py:85: LogWarning: x is really small return 0\n",
        "  sigma=this_sig)\n"
       ]
      },
      {
       "output_type": "display_data",
       "png": "[encoded data removed]",
       "text": [
        "<matplotlib.figure.Figure at 0x105337950>"
       ]
      }
     ],
     "prompt_number": 22
    },
    {
     "cell_type": "markdown",
     "metadata": {},
     "source": [
      "##How about Chi^2\n",
      "\n",
      "Let's explore another popular cost function chi^2. Chi^2 is bad when you have bin with 0. ROOT just ignore. ROOFIT does something I don't remember. But's it's best to avoid using chi^2 when you have bin with 0 count."
     ]
    },
    {
     "cell_type": "code",
     "collapsed": false,
     "input": [
      "import numpy.random as npr\n",
      "from math import sqrt,exp,pi\n",
      "import iminuit\n",
      "from probfit import Extended, gaussian, BinnedChi2, describe"
     ],
     "language": "python",
     "metadata": {},
     "outputs": [],
     "prompt_number": 23
    },
    {
     "cell_type": "code",
     "collapsed": false,
     "input": [
      "#we will use the same data as in the previous example\n",
      "npr.seed(0)\n",
      "data = npr.randn(10000)*4+1\n",
      "#sigma = 4 and mean = 1\n",
      "hist(data, bins=100, histtype='step');"
     ],
     "language": "python",
     "metadata": {},
     "outputs": [
      {
       "output_type": "display_data",
       "png": "[encoded data removed]",
       "text": [
        "<matplotlib.figure.Figure at 0x1054d1e50>"
       ]
      }
     ],
     "prompt_number": 24
    },
    {
     "cell_type": "code",
     "collapsed": false,
     "input": [
      "#And the same PDF: normalized gaussian\n",
      "def myPDF(x,mu,sigma):\n",
      "    return 1/sqrt(2*pi)/sigma*exp(-(x-mu)**2/2./sigma**2)"
     ],
     "language": "python",
     "metadata": {},
     "outputs": [],
     "prompt_number": 25
    },
    {
     "cell_type": "code",
     "collapsed": false,
     "input": [
      "#binned chi^2 fit only makes sense(for now) for extended fit\n",
      "extended_pdf = Extended(myPDF)"
     ],
     "language": "python",
     "metadata": {},
     "outputs": [],
     "prompt_number": 26
    },
    {
     "cell_type": "code",
     "collapsed": false,
     "input": [
      "#very useful method to look at function signature\n",
      "describe(extended_pdf) #you can look at what your pdf means"
     ],
     "language": "python",
     "metadata": {},
     "outputs": [
      {
       "output_type": "pyout",
       "prompt_number": 27,
       "text": [
        "['x', 'mu', 'sigma', 'N']"
       ]
      }
     ],
     "prompt_number": 27
    },
    {
     "cell_type": "code",
     "collapsed": false,
     "input": [
      "#Chi^2 distribution fit is really bad for distribution with long tail\n",
      "#since when bin count=0... poisson error=0 and blows up chi^2\n",
      "#so give it some range\n",
      "chi2 = BinnedChi2(extended_pdf,data,bound=(-7,10))\n",
      "minimizer = iminuit.Minuit(chi2,sigma=1)\n",
      "minimizer.migrad()"
     ],
     "language": "python",
     "metadata": {},
     "outputs": [
      {
       "output_type": "stream",
       "stream": "stderr",
       "text": [
        "-c:5: InitialParamWarning: Parameter mu does not have initial value. Assume 0.\n",
        "-c:5: InitialParamWarning: Parameter mu is floating but does not have initial step size. Assume 1.\n",
        "-c:5: InitialParamWarning: Parameter sigma is floating but does not have initial step size. Assume 1.\n",
        "-c:5: InitialParamWarning: Parameter N does not have initial value. Assume 0.\n",
        "-c:5: InitialParamWarning: Parameter N is floating but does not have initial step size. Assume 1.\n"
       ]
      },
      {
       "html": [
        "<hr>"
       ],
       "output_type": "display_data"
      },
      {
       "html": [
        "\n",
        "        <table>\n",
        "            <tr>\n",
        "                <td title=\"Minimum value of function\">FCN = 36.5025994291</td>\n",
        "                <td title=\"Total number of call to FCN so far\">TOTAL NCALL = 247</td>\n",
        "                <td title=\"Number of call in last migrad\">NCALLS = 247</td>\n",
        "            </tr>\n",
        "            <tr>\n",
        "                <td title=\"Estimated distance to minimum\">EDM = 3.00607928198e-08</td>\n",
        "                <td title=\"Maximum EDM definition of convergence\">GOAL EDM = 1e-05</td>\n",
        "                <td title=\"Error def. Amount of increase in FCN to be defined as 1 standard deviation\">\n",
        "                UP = 1.0</td>\n",
        "            </tr>\n",
        "        </table>\n",
        "        \n",
        "        <table>\n",
        "            <tr>\n",
        "                <td align=\"center\" title=\"Validity of the migrad call\">Valid</td>\n",
        "                <td align=\"center\" title=\"Validity of parameters\">Valid Param</td>\n",
        "                <td align=\"center\" title=\"Is Covariance matrix accurate?\">Accurate Covar</td>\n",
        "                <td align=\"center\" title=\"Positive definiteness of covariance matrix\">PosDef</td>\n",
        "                <td align=\"center\" title=\"Was covariance matrix made posdef by adding diagonal element\">Made PosDef</td>\n",
        "            </tr>\n",
        "            <tr>\n",
        "                <td align=\"center\" style=\"background-color:#92CCA6\">True</td>\n",
        "                <td align=\"center\" style=\"background-color:#92CCA6\">True</td>\n",
        "                <td align=\"center\" style=\"background-color:#92CCA6\">True</td>\n",
        "                <td align=\"center\" style=\"background-color:#92CCA6\">True</td>\n",
        "                <td align=\"center\" style=\"background-color:#92CCA6\">False</td>\n",
        "            </tr>\n",
        "            <tr>\n",
        "                <td align=\"center\" title=\"Was last hesse call fail?\">Hesse Fail</td>\n",
        "                <td align=\"center\" title=\"Validity of covariance\">HasCov</td>\n",
        "                <td align=\"center\" title=\"Is EDM above goal EDM?\">Above EDM</td>\n",
        "                <td align=\"center\"></td>\n",
        "                <td align=\"center\" title=\"Did last migrad call reach max call limit?\">Reach calllim</td>\n",
        "            </tr>\n",
        "            <tr>\n",
        "                <td align=\"center\" style=\"background-color:#92CCA6\">False</td>\n",
        "                <td align=\"center\" style=\"background-color:#92CCA6\">True</td>\n",
        "                <td align=\"center\" style=\"background-color:#92CCA6\">False</td>\n",
        "                <td align=\"center\"></td>\n",
        "                <td align=\"center\" style=\"background-color:#92CCA6\">False</td>\n",
        "            </tr>\n",
        "        </table>\n",
        "        "
       ],
       "output_type": "display_data"
      },
      {
       "html": [
        "\n",
        "        <table>\n",
        "            <tr>\n",
        "                <td><a href=\"#\" onclick=\"$('#vwnpkeWazx').toggle()\">+</a></td>\n",
        "                <td title=\"Variable name\">Name</td>\n",
        "                <td title=\"Value of parameter\">Value</td>\n",
        "                <td title=\"Parabolic error\">Parab Error</td>\n",
        "                <td title=\"Minos lower error\">Minos Error-</td>\n",
        "                <td title=\"Minos upper error\">Minos Error+</td>\n",
        "                <td title=\"Lower limit of the parameter\">Limit-</td>\n",
        "                <td title=\"Upper limit of the parameter\">Limit+</td>\n",
        "                <td title=\"Is the parameter fixed in the fit\">FIXED</td>\n",
        "            </tr>\n",
        "        \n",
        "            <tr>\n",
        "                <td>1</td>\n",
        "                <td>mu</td>\n",
        "                <td>9.064759e-01</td>\n",
        "                <td>4.482536e-02</td>\n",
        "                <td>0.000000e+00</td>\n",
        "                <td>0.000000e+00</td>\n",
        "                <td></td>\n",
        "                <td></td>\n",
        "                <td></td>\n",
        "            </tr>\n",
        "            \n",
        "            <tr>\n",
        "                <td>2</td>\n",
        "                <td>sigma</td>\n",
        "                <td>3.959036e+00</td>\n",
        "                <td>4.112828e-02</td>\n",
        "                <td>0.000000e+00</td>\n",
        "                <td>0.000000e+00</td>\n",
        "                <td></td>\n",
        "                <td></td>\n",
        "                <td></td>\n",
        "            </tr>\n",
        "            \n",
        "            <tr>\n",
        "                <td>3</td>\n",
        "                <td>N</td>\n",
        "                <td>9.969691e+03</td>\n",
        "                <td>1.033724e+02</td>\n",
        "                <td>0.000000e+00</td>\n",
        "                <td>0.000000e+00</td>\n",
        "                <td></td>\n",
        "                <td></td>\n",
        "                <td></td>\n",
        "            </tr>\n",
        "            \n",
        "            </table>\n",
        "        \n",
        "            <pre id=\"vwnpkeWazx\" style=\"display:none;\">\n",
        "            <textarea rows=\"12\" cols=\"50\" onclick=\"this.select()\" readonly>\\begin{tabular}{|c|r|r|r|r|r|r|r|c|}\n",
        "\\hline\n",
        " & Name & Value & Para Error & Error+ & Error- & Limit+ & Limit- & FIXED\\\\\n",
        "\\hline\n",
        "1 & $\\mu$ & 9.065e-01 & 4.483e-02 &  &  &  &  & \\\\\n",
        "\\hline\n",
        "2 & $\\sigma$ & 3.959e+00 & 4.113e-02 &  &  &  &  & \\\\\n",
        "\\hline\n",
        "3 & N & 9.970e+03 & 1.034e+02 &  &  &  &  & \\\\\n",
        "\\hline\n",
        "\\end{tabular}</textarea>\n",
        "            </pre>\n",
        "            "
       ],
       "output_type": "display_data"
      },
      {
       "html": [
        "<hr>"
       ],
       "output_type": "display_data"
      },
      {
       "output_type": "pyout",
       "prompt_number": 28,
       "text": [
        "({'hesse_failed': False, 'has_reached_call_limit': False, 'has_accurate_covar': True, 'has_posdef_covar': True, 'up': 1.0, 'edm': 3.006079281979545e-08, 'is_valid': True, 'is_above_max_edm': False, 'has_covariance': True, 'has_made_posdef_covar': False, 'has_valid_parameters': True, 'fval': 36.50259942907618, 'nfcn': 247},\n",
        " [{'is_const': False, 'name': 'mu', 'has_limits': False, 'value': 0.9064759047700527, 'number': 0L, 'has_lower_limit': False, 'upper_limit': 0.0, 'lower_limit': 0.0, 'has_upper_limit': False, 'error': 0.044825358490154885, 'is_fixed': False},\n",
        "  {'is_const': False, 'name': 'sigma', 'has_limits': False, 'value': 3.959036058997726, 'number': 1L, 'has_lower_limit': False, 'upper_limit': 0.0, 'lower_limit': 0.0, 'has_upper_limit': False, 'error': 0.041128281235997405, 'is_fixed': False},\n",
        "  {'is_const': False, 'name': 'N', 'has_limits': False, 'value': 9969.690654245478, 'number': 2L, 'has_lower_limit': False, 'upper_limit': 0.0, 'lower_limit': 0.0, 'has_upper_limit': False, 'error': 103.37239384508398, 'is_fixed': False}])"
       ]
      }
     ],
     "prompt_number": 28
    },
    {
     "cell_type": "code",
     "collapsed": false,
     "input": [
      "chi2.draw(minimizer)"
     ],
     "language": "python",
     "metadata": {},
     "outputs": [
      {
       "output_type": "display_data",
       "png": "[encoded data removed]",
       "text": [
        "<matplotlib.figure.Figure at 0x1050f9990>"
       ]
      }
     ],
     "prompt_number": 29
    },
    {
     "cell_type": "code",
     "collapsed": false,
     "input": [
      "#and usual deal\n",
      "minimizer.print_fmin()\n",
      "minimizer.print_matrix() "
     ],
     "language": "python",
     "metadata": {},
     "outputs": [
      {
       "html": [
        "<hr>"
       ],
       "output_type": "display_data"
      },
      {
       "html": [
        "\n",
        "        <table>\n",
        "            <tr>\n",
        "                <td title=\"Minimum value of function\">FCN = 36.5025994291</td>\n",
        "                <td title=\"Total number of call to FCN so far\">TOTAL NCALL = 247</td>\n",
        "                <td title=\"Number of call in last migrad\">NCALLS = 247</td>\n",
        "            </tr>\n",
        "            <tr>\n",
        "                <td title=\"Estimated distance to minimum\">EDM = 3.00607928198e-08</td>\n",
        "                <td title=\"Maximum EDM definition of convergence\">GOAL EDM = 1e-05</td>\n",
        "                <td title=\"Error def. Amount of increase in FCN to be defined as 1 standard deviation\">\n",
        "                UP = 1.0</td>\n",
        "            </tr>\n",
        "        </table>\n",
        "        \n",
        "        <table>\n",
        "            <tr>\n",
        "                <td align=\"center\" title=\"Validity of the migrad call\">Valid</td>\n",
        "                <td align=\"center\" title=\"Validity of parameters\">Valid Param</td>\n",
        "                <td align=\"center\" title=\"Is Covariance matrix accurate?\">Accurate Covar</td>\n",
        "                <td align=\"center\" title=\"Positive definiteness of covariance matrix\">PosDef</td>\n",
        "                <td align=\"center\" title=\"Was covariance matrix made posdef by adding diagonal element\">Made PosDef</td>\n",
        "            </tr>\n",
        "            <tr>\n",
        "                <td align=\"center\" style=\"background-color:#92CCA6\">True</td>\n",
        "                <td align=\"center\" style=\"background-color:#92CCA6\">True</td>\n",
        "                <td align=\"center\" style=\"background-color:#92CCA6\">True</td>\n",
        "                <td align=\"center\" style=\"background-color:#92CCA6\">True</td>\n",
        "                <td align=\"center\" style=\"background-color:#92CCA6\">False</td>\n",
        "            </tr>\n",
        "            <tr>\n",
        "                <td align=\"center\" title=\"Was last hesse call fail?\">Hesse Fail</td>\n",
        "                <td align=\"center\" title=\"Validity of covariance\">HasCov</td>\n",
        "                <td align=\"center\" title=\"Is EDM above goal EDM?\">Above EDM</td>\n",
        "                <td align=\"center\"></td>\n",
        "                <td align=\"center\" title=\"Did last migrad call reach max call limit?\">Reach calllim</td>\n",
        "            </tr>\n",
        "            <tr>\n",
        "                <td align=\"center\" style=\"background-color:#92CCA6\">False</td>\n",
        "                <td align=\"center\" style=\"background-color:#92CCA6\">True</td>\n",
        "                <td align=\"center\" style=\"background-color:#92CCA6\">False</td>\n",
        "                <td align=\"center\"></td>\n",
        "                <td align=\"center\" style=\"background-color:#92CCA6\">False</td>\n",
        "            </tr>\n",
        "        </table>\n",
        "        "
       ],
       "output_type": "display_data"
      },
      {
       "html": [
        "\n",
        "        <table>\n",
        "            <tr>\n",
        "                <td><a href=\"#\" onclick=\"$('#cyIjQilcdw').toggle()\">+</a></td>\n",
        "                <td title=\"Variable name\">Name</td>\n",
        "                <td title=\"Value of parameter\">Value</td>\n",
        "                <td title=\"Parabolic error\">Parab Error</td>\n",
        "                <td title=\"Minos lower error\">Minos Error-</td>\n",
        "                <td title=\"Minos upper error\">Minos Error+</td>\n",
        "                <td title=\"Lower limit of the parameter\">Limit-</td>\n",
        "                <td title=\"Upper limit of the parameter\">Limit+</td>\n",
        "                <td title=\"Is the parameter fixed in the fit\">FIXED</td>\n",
        "            </tr>\n",
        "        \n",
        "            <tr>\n",
        "                <td>1</td>\n",
        "                <td>mu</td>\n",
        "                <td>9.064759e-01</td>\n",
        "                <td>4.482536e-02</td>\n",
        "                <td>0.000000e+00</td>\n",
        "                <td>0.000000e+00</td>\n",
        "                <td></td>\n",
        "                <td></td>\n",
        "                <td></td>\n",
        "            </tr>\n",
        "            \n",
        "            <tr>\n",
        "                <td>2</td>\n",
        "                <td>sigma</td>\n",
        "                <td>3.959036e+00</td>\n",
        "                <td>4.112828e-02</td>\n",
        "                <td>0.000000e+00</td>\n",
        "                <td>0.000000e+00</td>\n",
        "                <td></td>\n",
        "                <td></td>\n",
        "                <td></td>\n",
        "            </tr>\n",
        "            \n",
        "            <tr>\n",
        "                <td>3</td>\n",
        "                <td>N</td>\n",
        "                <td>9.969691e+03</td>\n",
        "                <td>1.033724e+02</td>\n",
        "                <td>0.000000e+00</td>\n",
        "                <td>0.000000e+00</td>\n",
        "                <td></td>\n",
        "                <td></td>\n",
        "                <td></td>\n",
        "            </tr>\n",
        "            \n",
        "            </table>\n",
        "        \n",
        "            <pre id=\"cyIjQilcdw\" style=\"display:none;\">\n",
        "            <textarea rows=\"12\" cols=\"50\" onclick=\"this.select()\" readonly>\\begin{tabular}{|c|r|r|r|r|r|r|r|c|}\n",
        "\\hline\n",
        " & Name & Value & Para Error & Error+ & Error- & Limit+ & Limit- & FIXED\\\\\n",
        "\\hline\n",
        "1 & $\\mu$ & 9.065e-01 & 4.483e-02 &  &  &  &  & \\\\\n",
        "\\hline\n",
        "2 & $\\sigma$ & 3.959e+00 & 4.113e-02 &  &  &  &  & \\\\\n",
        "\\hline\n",
        "3 & N & 9.970e+03 & 1.034e+02 &  &  &  &  & \\\\\n",
        "\\hline\n",
        "\\end{tabular}</textarea>\n",
        "            </pre>\n",
        "            "
       ],
       "output_type": "display_data"
      },
      {
       "html": [
        "<hr>"
       ],
       "output_type": "display_data"
      },
      {
       "html": [
        "\n",
        "            <table>\n",
        "                <tr>\n",
        "                    <td><a onclick=\"$('#hQJJGSmNKB').toggle()\" href=\"#\">+</a></td>\n",
        "        \n",
        "            <td>\n",
        "            <div style=\"width:20px;position:relative; width: -moz-fit-content;\">\n",
        "            <div style=\"display:inline-block;-webkit-writing-mode:vertical-rl;-moz-writing-mode: vertical-rl;writing-mode: vertical-rl;\">\n",
        "            mu\n",
        "            </div>\n",
        "            </div>\n",
        "            </td>\n",
        "            \n",
        "            <td>\n",
        "            <div style=\"width:20px;position:relative; width: -moz-fit-content;\">\n",
        "            <div style=\"display:inline-block;-webkit-writing-mode:vertical-rl;-moz-writing-mode: vertical-rl;writing-mode: vertical-rl;\">\n",
        "            sigma\n",
        "            </div>\n",
        "            </div>\n",
        "            </td>\n",
        "            \n",
        "            <td>\n",
        "            <div style=\"width:20px;position:relative; width: -moz-fit-content;\">\n",
        "            <div style=\"display:inline-block;-webkit-writing-mode:vertical-rl;-moz-writing-mode: vertical-rl;writing-mode: vertical-rl;\">\n",
        "            N\n",
        "            </div>\n",
        "            </div>\n",
        "            </td>\n",
        "            \n",
        "                </tr>\n",
        "                \n",
        "            <tr>\n",
        "                <td>mu</td>\n",
        "            \n",
        "                <td style=\"background-color:rgb(255,117,117)\">\n",
        "                1.00\n",
        "                </td>\n",
        "                \n",
        "                <td style=\"background-color:rgb(172,240,179)\">\n",
        "                -0.10\n",
        "                </td>\n",
        "                \n",
        "                <td style=\"background-color:rgb(167,247,183)\">\n",
        "                -0.05\n",
        "                </td>\n",
        "                \n",
        "            </tr>\n",
        "            \n",
        "            <tr>\n",
        "                <td>sigma</td>\n",
        "            \n",
        "                <td style=\"background-color:rgb(172,240,179)\">\n",
        "                -0.10\n",
        "                </td>\n",
        "                \n",
        "                <td style=\"background-color:rgb(255,117,117)\">\n",
        "                1.00\n",
        "                </td>\n",
        "                \n",
        "                <td style=\"background-color:rgb(180,229,173)\">\n",
        "                0.18\n",
        "                </td>\n",
        "                \n",
        "            </tr>\n",
        "            \n",
        "            <tr>\n",
        "                <td>N</td>\n",
        "            \n",
        "                <td style=\"background-color:rgb(167,247,183)\">\n",
        "                -0.05\n",
        "                </td>\n",
        "                \n",
        "                <td style=\"background-color:rgb(180,229,173)\">\n",
        "                0.18\n",
        "                </td>\n",
        "                \n",
        "                <td style=\"background-color:rgb(255,117,117)\">\n",
        "                1.00\n",
        "                </td>\n",
        "                \n",
        "            </tr>\n",
        "            </table>\n",
        "\n",
        "            <pre id=\"hQJJGSmNKB\" style=\"display:none;\">\n",
        "            <textarea rows=\"15\" cols=\"50\" onclick=\"this.select()\" readonly>%\\usepackage[table]{xcolor} % include this for color\n",
        "%\\usepackage{rotating} % include this for rotate header\n",
        "%\\documentclass[xcolor=table]{beamer} % for beamer\n",
        "\\begin{tabular}{|c|c|c|c|}\n",
        "\\hline\n",
        "\\rotatebox{90}{} & \\rotatebox{90}{$\\mu$} & \\rotatebox{90}{$\\sigma$} & \\rotatebox{90}{N}\\\\\n",
        "\\hline\n",
        "$\\mu$ & \\cellcolor[RGB]{255,117,117} 1.00 & \\cellcolor[RGB]{172,240,179} -0.10 & \\cellcolor[RGB]{167,247,183} -0.05\\\\\n",
        "\\hline\n",
        "$\\sigma$ & \\cellcolor[RGB]{172,240,179} -0.10 & \\cellcolor[RGB]{255,117,117} 1.00 & \\cellcolor[RGB]{180,229,173} 0.18\\\\\n",
        "\\hline\n",
        "N & \\cellcolor[RGB]{167,247,183} -0.05 & \\cellcolor[RGB]{180,229,173} 0.18 & \\cellcolor[RGB]{255,117,117} 1.00\\\\\n",
        "\\hline\n",
        "\\end{tabular}</textarea>\n",
        "            </pre>\n",
        "            "
       ],
       "output_type": "display_data"
      }
     ],
     "prompt_number": 30
    },
    {
     "cell_type": "markdown",
     "metadata": {},
     "source": [
      "##Unbinned Likelihood and How to speed things up\n",
      "\n",
      "Unbinned likelihood is computationally very very expensive.\n",
      "It's now a good time that we talk about how to speed things up with cython"
     ]
    },
    {
     "cell_type": "code",
     "collapsed": false,
     "input": [
      "import numpy.random as npr\n",
      "from probfit import UnbinnedLH, gaussian, describe\n",
      "import iminuit"
     ],
     "language": "python",
     "metadata": {},
     "outputs": [],
     "prompt_number": 31
    },
    {
     "cell_type": "code",
     "collapsed": false,
     "input": [
      "#same data\n",
      "npr.seed(0)\n",
      "data = npr.randn(10000)*4+1\n",
      "#sigma = 4 and mean = 1\n",
      "hist(data,bins=100,histtype='step');"
     ],
     "language": "python",
     "metadata": {},
     "outputs": [
      {
       "output_type": "display_data",
       "png": "[encoded data removed]",
       "text": [
        "<matplotlib.figure.Figure at 0x105704990>"
       ]
      }
     ],
     "prompt_number": 32
    },
    {
     "cell_type": "code",
     "collapsed": false,
     "input": [
      "#We want to speed things up with cython\n",
      "#load cythonmagic\n",
      "%load_ext cythonmagic"
     ],
     "language": "python",
     "metadata": {},
     "outputs": [],
     "prompt_number": 33
    },
    {
     "cell_type": "code",
     "collapsed": false,
     "input": [
      "%%cython\n",
      "cimport cython\n",
      "from libc.math cimport exp,M_PI,sqrt\n",
      "#same gaussian distribution but now written in cython\n",
      "@cython.binding(True)#IMPORTANT:this tells cython to dump function signature too\n",
      "def cython_PDF(double x,double mu,double sigma):\n",
      "    #these are c add multiply etc not python so it's fast\n",
      "    return 1/sqrt(2*M_PI)/sigma*exp(-(x-mu)**2/2./sigma**2)"
     ],
     "language": "python",
     "metadata": {},
     "outputs": [],
     "prompt_number": 34
    },
    {
     "cell_type": "code",
     "collapsed": false,
     "input": [
      "#cost function \n",
      "ublh = UnbinnedLH(cython_PDF,data)\n",
      "minimizer = iminuit.Minuit(ublh,sigma=2.)\n",
      "minimizer.set_up(0.5)#remember this is likelihood\n",
      "minimizer.migrad()#yes amazingly fast\n",
      "ublh.show(minimizer)\n",
      "minimizer.print_fmin()\n",
      "minimizer.print_matrix() "
     ],
     "language": "python",
     "metadata": {},
     "outputs": [
      {
       "output_type": "stream",
       "stream": "stderr",
       "text": [
        "-c:3: InitialParamWarning: Parameter mu does not have initial value. Assume 0.\n",
        "-c:3: InitialParamWarning: Parameter mu is floating but does not have initial step size. Assume 1.\n",
        "-c:3: InitialParamWarning: Parameter sigma is floating but does not have initial step size. Assume 1.\n"
       ]
      },
      {
       "html": [
        "<hr>"
       ],
       "output_type": "display_data"
      },
      {
       "html": [
        "\n",
        "        <table>\n",
        "            <tr>\n",
        "                <td title=\"Minimum value of function\">FCN = 27927.1139471</td>\n",
        "                <td title=\"Total number of call to FCN so far\">TOTAL NCALL = 69</td>\n",
        "                <td title=\"Number of call in last migrad\">NCALLS = 69</td>\n",
        "            </tr>\n",
        "            <tr>\n",
        "                <td title=\"Estimated distance to minimum\">EDM = 5.05909350517e-09</td>\n",
        "                <td title=\"Maximum EDM definition of convergence\">GOAL EDM = 5e-06</td>\n",
        "                <td title=\"Error def. Amount of increase in FCN to be defined as 1 standard deviation\">\n",
        "                UP = 0.5</td>\n",
        "            </tr>\n",
        "        </table>\n",
        "        \n",
        "        <table>\n",
        "            <tr>\n",
        "                <td align=\"center\" title=\"Validity of the migrad call\">Valid</td>\n",
        "                <td align=\"center\" title=\"Validity of parameters\">Valid Param</td>\n",
        "                <td align=\"center\" title=\"Is Covariance matrix accurate?\">Accurate Covar</td>\n",
        "                <td align=\"center\" title=\"Positive definiteness of covariance matrix\">PosDef</td>\n",
        "                <td align=\"center\" title=\"Was covariance matrix made posdef by adding diagonal element\">Made PosDef</td>\n",
        "            </tr>\n",
        "            <tr>\n",
        "                <td align=\"center\" style=\"background-color:#92CCA6\">True</td>\n",
        "                <td align=\"center\" style=\"background-color:#92CCA6\">True</td>\n",
        "                <td align=\"center\" style=\"background-color:#92CCA6\">True</td>\n",
        "                <td align=\"center\" style=\"background-color:#92CCA6\">True</td>\n",
        "                <td align=\"center\" style=\"background-color:#92CCA6\">False</td>\n",
        "            </tr>\n",
        "            <tr>\n",
        "                <td align=\"center\" title=\"Was last hesse call fail?\">Hesse Fail</td>\n",
        "                <td align=\"center\" title=\"Validity of covariance\">HasCov</td>\n",
        "                <td align=\"center\" title=\"Is EDM above goal EDM?\">Above EDM</td>\n",
        "                <td align=\"center\"></td>\n",
        "                <td align=\"center\" title=\"Did last migrad call reach max call limit?\">Reach calllim</td>\n",
        "            </tr>\n",
        "            <tr>\n",
        "                <td align=\"center\" style=\"background-color:#92CCA6\">False</td>\n",
        "                <td align=\"center\" style=\"background-color:#92CCA6\">True</td>\n",
        "                <td align=\"center\" style=\"background-color:#92CCA6\">False</td>\n",
        "                <td align=\"center\"></td>\n",
        "                <td align=\"center\" style=\"background-color:#92CCA6\">False</td>\n",
        "            </tr>\n",
        "        </table>\n",
        "        "
       ],
       "output_type": "display_data"
      },
      {
       "html": [
        "\n",
        "        <table>\n",
        "            <tr>\n",
        "                <td><a href=\"#\" onclick=\"$('#xVhGrPAIzT').toggle()\">+</a></td>\n",
        "                <td title=\"Variable name\">Name</td>\n",
        "                <td title=\"Value of parameter\">Value</td>\n",
        "                <td title=\"Parabolic error\">Parab Error</td>\n",
        "                <td title=\"Minos lower error\">Minos Error-</td>\n",
        "                <td title=\"Minos upper error\">Minos Error+</td>\n",
        "                <td title=\"Lower limit of the parameter\">Limit-</td>\n",
        "                <td title=\"Upper limit of the parameter\">Limit+</td>\n",
        "                <td title=\"Is the parameter fixed in the fit\">FIXED</td>\n",
        "            </tr>\n",
        "        \n",
        "            <tr>\n",
        "                <td>1</td>\n",
        "                <td>mu</td>\n",
        "                <td>9.262679e-01</td>\n",
        "                <td>3.950226e-02</td>\n",
        "                <td>0.000000e+00</td>\n",
        "                <td>0.000000e+00</td>\n",
        "                <td></td>\n",
        "                <td></td>\n",
        "                <td></td>\n",
        "            </tr>\n",
        "            \n",
        "            <tr>\n",
        "                <td>2</td>\n",
        "                <td>sigma</td>\n",
        "                <td>3.950224e+00</td>\n",
        "                <td>2.793227e-02</td>\n",
        "                <td>0.000000e+00</td>\n",
        "                <td>0.000000e+00</td>\n",
        "                <td></td>\n",
        "                <td></td>\n",
        "                <td></td>\n",
        "            </tr>\n",
        "            \n",
        "            </table>\n",
        "        \n",
        "            <pre id=\"xVhGrPAIzT\" style=\"display:none;\">\n",
        "            <textarea rows=\"10\" cols=\"50\" onclick=\"this.select()\" readonly>\\begin{tabular}{|c|r|r|r|r|r|r|r|c|}\n",
        "\\hline\n",
        " & Name & Value & Para Error & Error+ & Error- & Limit+ & Limit- & FIXED\\\\\n",
        "\\hline\n",
        "1 & $\\mu$ & 9.263e-01 & 3.950e-02 &  &  &  &  & \\\\\n",
        "\\hline\n",
        "2 & $\\sigma$ & 3.950e+00 & 2.793e-02 &  &  &  &  & \\\\\n",
        "\\hline\n",
        "\\end{tabular}</textarea>\n",
        "            </pre>\n",
        "            "
       ],
       "output_type": "display_data"
      },
      {
       "html": [
        "<hr>"
       ],
       "output_type": "display_data"
      },
      {
       "output_type": "display_data",
       "png": "[encoded data removed]",
       "text": [
        "<matplotlib.figure.Figure at 0x105323590>"
       ]
      },
      {
       "html": [
        "<hr>"
       ],
       "output_type": "display_data"
      },
      {
       "html": [
        "\n",
        "        <table>\n",
        "            <tr>\n",
        "                <td title=\"Minimum value of function\">FCN = 27927.1139471</td>\n",
        "                <td title=\"Total number of call to FCN so far\">TOTAL NCALL = 69</td>\n",
        "                <td title=\"Number of call in last migrad\">NCALLS = 69</td>\n",
        "            </tr>\n",
        "            <tr>\n",
        "                <td title=\"Estimated distance to minimum\">EDM = 5.05909350517e-09</td>\n",
        "                <td title=\"Maximum EDM definition of convergence\">GOAL EDM = 5e-06</td>\n",
        "                <td title=\"Error def. Amount of increase in FCN to be defined as 1 standard deviation\">\n",
        "                UP = 0.5</td>\n",
        "            </tr>\n",
        "        </table>\n",
        "        \n",
        "        <table>\n",
        "            <tr>\n",
        "                <td align=\"center\" title=\"Validity of the migrad call\">Valid</td>\n",
        "                <td align=\"center\" title=\"Validity of parameters\">Valid Param</td>\n",
        "                <td align=\"center\" title=\"Is Covariance matrix accurate?\">Accurate Covar</td>\n",
        "                <td align=\"center\" title=\"Positive definiteness of covariance matrix\">PosDef</td>\n",
        "                <td align=\"center\" title=\"Was covariance matrix made posdef by adding diagonal element\">Made PosDef</td>\n",
        "            </tr>\n",
        "            <tr>\n",
        "                <td align=\"center\" style=\"background-color:#92CCA6\">True</td>\n",
        "                <td align=\"center\" style=\"background-color:#92CCA6\">True</td>\n",
        "                <td align=\"center\" style=\"background-color:#92CCA6\">True</td>\n",
        "                <td align=\"center\" style=\"background-color:#92CCA6\">True</td>\n",
        "                <td align=\"center\" style=\"background-color:#92CCA6\">False</td>\n",
        "            </tr>\n",
        "            <tr>\n",
        "                <td align=\"center\" title=\"Was last hesse call fail?\">Hesse Fail</td>\n",
        "                <td align=\"center\" title=\"Validity of covariance\">HasCov</td>\n",
        "                <td align=\"center\" title=\"Is EDM above goal EDM?\">Above EDM</td>\n",
        "                <td align=\"center\"></td>\n",
        "                <td align=\"center\" title=\"Did last migrad call reach max call limit?\">Reach calllim</td>\n",
        "            </tr>\n",
        "            <tr>\n",
        "                <td align=\"center\" style=\"background-color:#92CCA6\">False</td>\n",
        "                <td align=\"center\" style=\"background-color:#92CCA6\">True</td>\n",
        "                <td align=\"center\" style=\"background-color:#92CCA6\">False</td>\n",
        "                <td align=\"center\"></td>\n",
        "                <td align=\"center\" style=\"background-color:#92CCA6\">False</td>\n",
        "            </tr>\n",
        "        </table>\n",
        "        "
       ],
       "output_type": "display_data"
      },
      {
       "html": [
        "\n",
        "        <table>\n",
        "            <tr>\n",
        "                <td><a href=\"#\" onclick=\"$('#hPsQsIKgEc').toggle()\">+</a></td>\n",
        "                <td title=\"Variable name\">Name</td>\n",
        "                <td title=\"Value of parameter\">Value</td>\n",
        "                <td title=\"Parabolic error\">Parab Error</td>\n",
        "                <td title=\"Minos lower error\">Minos Error-</td>\n",
        "                <td title=\"Minos upper error\">Minos Error+</td>\n",
        "                <td title=\"Lower limit of the parameter\">Limit-</td>\n",
        "                <td title=\"Upper limit of the parameter\">Limit+</td>\n",
        "                <td title=\"Is the parameter fixed in the fit\">FIXED</td>\n",
        "            </tr>\n",
        "        \n",
        "            <tr>\n",
        "                <td>1</td>\n",
        "                <td>mu</td>\n",
        "                <td>9.262679e-01</td>\n",
        "                <td>3.950226e-02</td>\n",
        "                <td>0.000000e+00</td>\n",
        "                <td>0.000000e+00</td>\n",
        "                <td></td>\n",
        "                <td></td>\n",
        "                <td></td>\n",
        "            </tr>\n",
        "            \n",
        "            <tr>\n",
        "                <td>2</td>\n",
        "                <td>sigma</td>\n",
        "                <td>3.950224e+00</td>\n",
        "                <td>2.793227e-02</td>\n",
        "                <td>0.000000e+00</td>\n",
        "                <td>0.000000e+00</td>\n",
        "                <td></td>\n",
        "                <td></td>\n",
        "                <td></td>\n",
        "            </tr>\n",
        "            \n",
        "            </table>\n",
        "        \n",
        "            <pre id=\"hPsQsIKgEc\" style=\"display:none;\">\n",
        "            <textarea rows=\"10\" cols=\"50\" onclick=\"this.select()\" readonly>\\begin{tabular}{|c|r|r|r|r|r|r|r|c|}\n",
        "\\hline\n",
        " & Name & Value & Para Error & Error+ & Error- & Limit+ & Limit- & FIXED\\\\\n",
        "\\hline\n",
        "1 & $\\mu$ & 9.263e-01 & 3.950e-02 &  &  &  &  & \\\\\n",
        "\\hline\n",
        "2 & $\\sigma$ & 3.950e+00 & 2.793e-02 &  &  &  &  & \\\\\n",
        "\\hline\n",
        "\\end{tabular}</textarea>\n",
        "            </pre>\n",
        "            "
       ],
       "output_type": "display_data"
      },
      {
       "html": [
        "<hr>"
       ],
       "output_type": "display_data"
      },
      {
       "html": [
        "\n",
        "            <table>\n",
        "                <tr>\n",
        "                    <td><a onclick=\"$('#KvGrpfnREn').toggle()\" href=\"#\">+</a></td>\n",
        "        \n",
        "            <td>\n",
        "            <div style=\"width:20px;position:relative; width: -moz-fit-content;\">\n",
        "            <div style=\"display:inline-block;-webkit-writing-mode:vertical-rl;-moz-writing-mode: vertical-rl;writing-mode: vertical-rl;\">\n",
        "            mu\n",
        "            </div>\n",
        "            </div>\n",
        "            </td>\n",
        "            \n",
        "            <td>\n",
        "            <div style=\"width:20px;position:relative; width: -moz-fit-content;\">\n",
        "            <div style=\"display:inline-block;-webkit-writing-mode:vertical-rl;-moz-writing-mode: vertical-rl;writing-mode: vertical-rl;\">\n",
        "            sigma\n",
        "            </div>\n",
        "            </div>\n",
        "            </td>\n",
        "            \n",
        "                </tr>\n",
        "                \n",
        "            <tr>\n",
        "                <td>mu</td>\n",
        "            \n",
        "                <td style=\"background-color:rgb(255,117,117)\">\n",
        "                1.00\n",
        "                </td>\n",
        "                \n",
        "                <td style=\"background-color:rgb(163,254,186)\">\n",
        "                0.00\n",
        "                </td>\n",
        "                \n",
        "            </tr>\n",
        "            \n",
        "            <tr>\n",
        "                <td>sigma</td>\n",
        "            \n",
        "                <td style=\"background-color:rgb(163,254,186)\">\n",
        "                0.00\n",
        "                </td>\n",
        "                \n",
        "                <td style=\"background-color:rgb(255,117,117)\">\n",
        "                1.00\n",
        "                </td>\n",
        "                \n",
        "            </tr>\n",
        "            </table>\n",
        "\n",
        "            <pre id=\"KvGrpfnREn\" style=\"display:none;\">\n",
        "            <textarea rows=\"13\" cols=\"50\" onclick=\"this.select()\" readonly>%\\usepackage[table]{xcolor} % include this for color\n",
        "%\\usepackage{rotating} % include this for rotate header\n",
        "%\\documentclass[xcolor=table]{beamer} % for beamer\n",
        "\\begin{tabular}{|c|c|c|}\n",
        "\\hline\n",
        "\\rotatebox{90}{} & \\rotatebox{90}{$\\mu$} & \\rotatebox{90}{$\\sigma$}\\\\\n",
        "\\hline\n",
        "$\\mu$ & \\cellcolor[RGB]{255,117,117} 1.00 & \\cellcolor[RGB]{163,254,186} 0.00\\\\\n",
        "\\hline\n",
        "$\\sigma$ & \\cellcolor[RGB]{163,254,186} 0.00 & \\cellcolor[RGB]{255,117,117} 1.00\\\\\n",
        "\\hline\n",
        "\\end{tabular}</textarea>\n",
        "            </pre>\n",
        "            "
       ],
       "output_type": "display_data"
      }
     ],
     "prompt_number": 35
    },
    {
     "cell_type": "code",
     "collapsed": false,
     "input": [
      "#remember how slow it was?\n",
      "#now it's super fast(and it's even unbinned likelihood)\n",
      "minimizer.draw_mnprofile('mu');"
     ],
     "language": "python",
     "metadata": {},
     "outputs": [
      {
       "output_type": "display_data",
       "png": "[encoded data removed]",
       "text": [
        "<matplotlib.figure.Figure at 0x1053067d0>"
       ]
      }
     ],
     "prompt_number": 36
    },
    {
     "cell_type": "markdown",
     "metadata": {},
     "source": [
      "But you really don't have to write your own gaussian there are tons of builtin function written in cython for you."
     ]
    },
    {
     "cell_type": "code",
     "collapsed": false,
     "input": [
      "import probfit.pdf\n",
      "print dir(probfit.pdf)\n",
      "print describe(gaussian)\n",
      "print type(gaussian)"
     ],
     "language": "python",
     "metadata": {},
     "outputs": [
      {
       "output_type": "stream",
       "stream": "stdout",
       "text": [
        "['HistogramPdf', 'MinimalFuncCode', 'Polynomial', '_Linear', '__builtins__', '__doc__', '__file__', '__name__', '__package__', '__pyx_capi__', '__test__', 'argus', 'cauchy', 'cruijff', 'crystalball', 'describe', 'doublegaussian', 'gaussian', 'linear', 'novosibirsk', 'np', 'poly2', 'poly3', 'rtv_breitwigner', 'ugaussian']\n",
        "['x', 'mean', 'sigma']\n",
        "<type 'builtin_function_or_method'>\n"
       ]
      }
     ],
     "prompt_number": 37
    },
    {
     "cell_type": "code",
     "collapsed": false,
     "input": [
      "ublh = UnbinnedLH(gaussian,data)\n",
      "minimizer = iminuit.Minuit(ublh,sigma=2.)\n",
      "minimizer.set_up(0.5)#remember this is likelihood\n",
      "minimizer.migrad()#yes amazingly fast\n",
      "ublh.draw(minimizer, show_errbars='normal') # control how fit is displayed too"
     ],
     "language": "python",
     "metadata": {},
     "outputs": [
      {
       "output_type": "stream",
       "stream": "stderr",
       "text": [
        "-c:2: InitialParamWarning: Parameter mean does not have initial value. Assume 0.\n",
        "-c:2: InitialParamWarning: Parameter mean is floating but does not have initial step size. Assume 1.\n",
        "-c:2: InitialParamWarning: Parameter sigma is floating but does not have initial step size. Assume 1.\n"
       ]
      },
      {
       "html": [
        "<hr>"
       ],
       "output_type": "display_data"
      },
      {
       "html": [
        "\n",
        "        <table>\n",
        "            <tr>\n",
        "                <td title=\"Minimum value of function\">FCN = 27927.1139471</td>\n",
        "                <td title=\"Total number of call to FCN so far\">TOTAL NCALL = 69</td>\n",
        "                <td title=\"Number of call in last migrad\">NCALLS = 69</td>\n",
        "            </tr>\n",
        "            <tr>\n",
        "                <td title=\"Estimated distance to minimum\">EDM = 5.07834778662e-09</td>\n",
        "                <td title=\"Maximum EDM definition of convergence\">GOAL EDM = 5e-06</td>\n",
        "                <td title=\"Error def. Amount of increase in FCN to be defined as 1 standard deviation\">\n",
        "                UP = 0.5</td>\n",
        "            </tr>\n",
        "        </table>\n",
        "        \n",
        "        <table>\n",
        "            <tr>\n",
        "                <td align=\"center\" title=\"Validity of the migrad call\">Valid</td>\n",
        "                <td align=\"center\" title=\"Validity of parameters\">Valid Param</td>\n",
        "                <td align=\"center\" title=\"Is Covariance matrix accurate?\">Accurate Covar</td>\n",
        "                <td align=\"center\" title=\"Positive definiteness of covariance matrix\">PosDef</td>\n",
        "                <td align=\"center\" title=\"Was covariance matrix made posdef by adding diagonal element\">Made PosDef</td>\n",
        "            </tr>\n",
        "            <tr>\n",
        "                <td align=\"center\" style=\"background-color:#92CCA6\">True</td>\n",
        "                <td align=\"center\" style=\"background-color:#92CCA6\">True</td>\n",
        "                <td align=\"center\" style=\"background-color:#92CCA6\">True</td>\n",
        "                <td align=\"center\" style=\"background-color:#92CCA6\">True</td>\n",
        "                <td align=\"center\" style=\"background-color:#92CCA6\">False</td>\n",
        "            </tr>\n",
        "            <tr>\n",
        "                <td align=\"center\" title=\"Was last hesse call fail?\">Hesse Fail</td>\n",
        "                <td align=\"center\" title=\"Validity of covariance\">HasCov</td>\n",
        "                <td align=\"center\" title=\"Is EDM above goal EDM?\">Above EDM</td>\n",
        "                <td align=\"center\"></td>\n",
        "                <td align=\"center\" title=\"Did last migrad call reach max call limit?\">Reach calllim</td>\n",
        "            </tr>\n",
        "            <tr>\n",
        "                <td align=\"center\" style=\"background-color:#92CCA6\">False</td>\n",
        "                <td align=\"center\" style=\"background-color:#92CCA6\">True</td>\n",
        "                <td align=\"center\" style=\"background-color:#92CCA6\">False</td>\n",
        "                <td align=\"center\"></td>\n",
        "                <td align=\"center\" style=\"background-color:#92CCA6\">False</td>\n",
        "            </tr>\n",
        "        </table>\n",
        "        "
       ],
       "output_type": "display_data"
      },
      {
       "html": [
        "\n",
        "        <table>\n",
        "            <tr>\n",
        "                <td><a href=\"#\" onclick=\"$('#iesWnBVzxe').toggle()\">+</a></td>\n",
        "                <td title=\"Variable name\">Name</td>\n",
        "                <td title=\"Value of parameter\">Value</td>\n",
        "                <td title=\"Parabolic error\">Parab Error</td>\n",
        "                <td title=\"Minos lower error\">Minos Error-</td>\n",
        "                <td title=\"Minos upper error\">Minos Error+</td>\n",
        "                <td title=\"Lower limit of the parameter\">Limit-</td>\n",
        "                <td title=\"Upper limit of the parameter\">Limit+</td>\n",
        "                <td title=\"Is the parameter fixed in the fit\">FIXED</td>\n",
        "            </tr>\n",
        "        \n",
        "            <tr>\n",
        "                <td>1</td>\n",
        "                <td>mean</td>\n",
        "                <td>9.262679e-01</td>\n",
        "                <td>3.950226e-02</td>\n",
        "                <td>0.000000e+00</td>\n",
        "                <td>0.000000e+00</td>\n",
        "                <td></td>\n",
        "                <td></td>\n",
        "                <td></td>\n",
        "            </tr>\n",
        "            \n",
        "            <tr>\n",
        "                <td>2</td>\n",
        "                <td>sigma</td>\n",
        "                <td>3.950224e+00</td>\n",
        "                <td>2.793227e-02</td>\n",
        "                <td>0.000000e+00</td>\n",
        "                <td>0.000000e+00</td>\n",
        "                <td></td>\n",
        "                <td></td>\n",
        "                <td></td>\n",
        "            </tr>\n",
        "            \n",
        "            </table>\n",
        "        \n",
        "            <pre id=\"iesWnBVzxe\" style=\"display:none;\">\n",
        "            <textarea rows=\"10\" cols=\"50\" onclick=\"this.select()\" readonly>\\begin{tabular}{|c|r|r|r|r|r|r|r|c|}\n",
        "\\hline\n",
        " & Name & Value & Para Error & Error+ & Error- & Limit+ & Limit- & FIXED\\\\\n",
        "\\hline\n",
        "1 & mean & 9.263e-01 & 3.950e-02 &  &  &  &  & \\\\\n",
        "\\hline\n",
        "2 & $\\sigma$ & 3.950e+00 & 2.793e-02 &  &  &  &  & \\\\\n",
        "\\hline\n",
        "\\end{tabular}</textarea>\n",
        "            </pre>\n",
        "            "
       ],
       "output_type": "display_data"
      },
      {
       "html": [
        "<hr>"
       ],
       "output_type": "display_data"
      },
      {
       "output_type": "display_data",
       "png": "[encoded data removed]",
       "text": [
        "<matplotlib.figure.Figure at 0x10530d350>"
       ]
      }
     ],
     "prompt_number": 38
    },
    {
     "cell_type": "code",
     "collapsed": false,
     "input": [
      "# Draw the difference between data and PDF\n",
      "plt.figure(figsize=(13,4))\n",
      "plt.subplot(121)\n",
      "ublh.draw_residual(minimizer)\n",
      "plt.subplot(122)\n",
      "ublh.draw_residual(minimizer, show_errbars=True, errbar_algo='sumw2', norm=True)"
     ],
     "language": "python",
     "metadata": {},
     "outputs": [
      {
       "output_type": "display_data",
       "png": "[encoded data removed]",
       "text": [
        "<matplotlib.figure.Figure at 0x1055f3f50>"
       ]
      }
     ],
     "prompt_number": 39
    },
    {
     "cell_type": "markdown",
     "metadata": {},
     "source": [
      "##But... We can't normalize everything analytically and how to generate toy sample from PDF\n",
      "\n",
      "When fitting distribution to a PDF. One of the common problem that we run into is normalization.\n",
      "Not all function is analytically integrable on the range of our interest.\n",
      "Let's look at crystal ball function."
     ]
    },
    {
     "cell_type": "code",
     "collapsed": false,
     "input": [
      "from probfit import crystalball, gen_toy, Normalized, describe, UnbinnedLH\n",
      "import numpy.random as npr\n",
      "import iminuit"
     ],
     "language": "python",
     "metadata": {},
     "outputs": [],
     "prompt_number": 40
    },
    {
     "cell_type": "code",
     "collapsed": false,
     "input": [
      "#lets first generate a crystal ball sample\n",
      "#dist_fit has builtin toy generation capability\n",
      "#lets introduce crystal ball function\n",
      "#http://en.wikipedia.org/wiki/Crystal_Ball_function\n",
      "#it's simply gaussian with power law tail\n",
      "#normally found in energy deposited in crystals\n",
      "#impossible to normalize analytically\n",
      "#and normalization will depend on shape parameters\n",
      "describe(crystalball)"
     ],
     "language": "python",
     "metadata": {},
     "outputs": [
      {
       "output_type": "pyout",
       "prompt_number": 41,
       "text": [
        "['x', 'alpha', 'n', 'mean', 'sigma']"
       ]
      }
     ],
     "prompt_number": 41
    },
    {
     "cell_type": "code",
     "collapsed": false,
     "input": [
      "npr.seed(0)\n",
      "bound = (-1,2)\n",
      "data = gen_toy(crystalball,10000,bound=bound,alpha=1.,n=2.,mean=1.,sigma=0.3,quiet=False)\n",
      "#quiet = False tells it to plot out original function\n",
      "#toy histogram and poisson error from both orignal distribution and toy"
     ],
     "language": "python",
     "metadata": {},
     "outputs": [
      {
       "output_type": "stream",
       "stream": "stdout",
       "text": [
        "['x', 'alpha', 'n', 'mean', 'sigma']\n"
       ]
      },
      {
       "output_type": "display_data",
       "png": "[encoded data removed]",
       "text": [
        "<matplotlib.figure.Figure at 0x105439a50>"
       ]
      }
     ],
     "prompt_number": 42
    },
    {
     "cell_type": "code",
     "collapsed": false,
     "input": [
      "#To fit this we need to tell normalized our crystal ball PDF\n",
      "#this is done with trapezoid rule with simple cache mechanism\n",
      "#can be done by Normalized functor\n",
      "ncball = Normalized(crystalball,bound)\n",
      "#this can also bedone with declerator\n",
      "#@normalized_function(bound)\n",
      "#def myPDF(x,blah):\n",
      "#    return blah\n",
      "print 'unnorm:', crystalball(1.0,1,2,1,0.3)\n",
      "print '  norm:', ncball(1.0,1,2,1,0.3)"
     ],
     "language": "python",
     "metadata": {},
     "outputs": [
      {
       "output_type": "stream",
       "stream": "stdout",
       "text": [
        "unnorm: 1.0\n",
        "  norm: 1.10945669814\n"
       ]
      }
     ],
     "prompt_number": 43
    },
    {
     "cell_type": "code",
     "collapsed": false,
     "input": [
      "#it has the same signature as the crystalball\n",
      "describe(ncball)"
     ],
     "language": "python",
     "metadata": {},
     "outputs": [
      {
       "output_type": "pyout",
       "prompt_number": 44,
       "text": [
        "['x', 'alpha', 'n', 'mean', 'sigma']"
       ]
      }
     ],
     "prompt_number": 44
    },
    {
     "cell_type": "code",
     "collapsed": false,
     "input": [
      "#now we can fit as usual\n",
      "ublh = UnbinnedLH(ncball,data)\n",
      "minimizer = iminuit.Minuit(ublh,\n",
      "    alpha=1.,n=2.1,mean=1.2,sigma=0.3)\n",
      "minimizer.set_up(0.5)#remember this is likelihood\n",
      "minimizer.migrad()#yes amazingly fast Normalize is written in cython\n",
      "ublh.show(minimizer)\n",
      "#crystalball function is nortorious for its sensitivity on n parameter\n",
      "#dist_fit give you a heads up where it might have float overflow"
     ],
     "language": "python",
     "metadata": {},
     "outputs": [
      {
       "output_type": "stream",
       "stream": "stderr",
       "text": [
        "-c:4: InitialParamWarning: Parameter alpha is floating but does not have initial step size. Assume 1.\n",
        "-c:4: InitialParamWarning: Parameter n is floating but does not have initial step size. Assume 1.\n",
        "-c:4: InitialParamWarning: Parameter mean is floating but does not have initial step size. Assume 1.\n",
        "-c:4: InitialParamWarning: Parameter sigma is floating but does not have initial step size. Assume 1.\n",
        "-c:6: SmallIntegralWarning: (0.9689428295957161, 0.44086027281289175, -7.852819454184058, 0.9263111214440007, 0.29811644525305303)\n"
       ]
      },
      {
       "html": [
        "<hr>"
       ],
       "output_type": "display_data"
      },
      {
       "html": [
        "\n",
        "        <table>\n",
        "            <tr>\n",
        "                <td title=\"Minimum value of function\">FCN = 6154.37579109</td>\n",
        "                <td title=\"Total number of call to FCN so far\">TOTAL NCALL = 178</td>\n",
        "                <td title=\"Number of call in last migrad\">NCALLS = 178</td>\n",
        "            </tr>\n",
        "            <tr>\n",
        "                <td title=\"Estimated distance to minimum\">EDM = 1.09346528365e-06</td>\n",
        "                <td title=\"Maximum EDM definition of convergence\">GOAL EDM = 5e-06</td>\n",
        "                <td title=\"Error def. Amount of increase in FCN to be defined as 1 standard deviation\">\n",
        "                UP = 0.5</td>\n",
        "            </tr>\n",
        "        </table>\n",
        "        \n",
        "        <table>\n",
        "            <tr>\n",
        "                <td align=\"center\" title=\"Validity of the migrad call\">Valid</td>\n",
        "                <td align=\"center\" title=\"Validity of parameters\">Valid Param</td>\n",
        "                <td align=\"center\" title=\"Is Covariance matrix accurate?\">Accurate Covar</td>\n",
        "                <td align=\"center\" title=\"Positive definiteness of covariance matrix\">PosDef</td>\n",
        "                <td align=\"center\" title=\"Was covariance matrix made posdef by adding diagonal element\">Made PosDef</td>\n",
        "            </tr>\n",
        "            <tr>\n",
        "                <td align=\"center\" style=\"background-color:#92CCA6\">True</td>\n",
        "                <td align=\"center\" style=\"background-color:#92CCA6\">True</td>\n",
        "                <td align=\"center\" style=\"background-color:#92CCA6\">True</td>\n",
        "                <td align=\"center\" style=\"background-color:#92CCA6\">True</td>\n",
        "                <td align=\"center\" style=\"background-color:#92CCA6\">False</td>\n",
        "            </tr>\n",
        "            <tr>\n",
        "                <td align=\"center\" title=\"Was last hesse call fail?\">Hesse Fail</td>\n",
        "                <td align=\"center\" title=\"Validity of covariance\">HasCov</td>\n",
        "                <td align=\"center\" title=\"Is EDM above goal EDM?\">Above EDM</td>\n",
        "                <td align=\"center\"></td>\n",
        "                <td align=\"center\" title=\"Did last migrad call reach max call limit?\">Reach calllim</td>\n",
        "            </tr>\n",
        "            <tr>\n",
        "                <td align=\"center\" style=\"background-color:#92CCA6\">False</td>\n",
        "                <td align=\"center\" style=\"background-color:#92CCA6\">True</td>\n",
        "                <td align=\"center\" style=\"background-color:#92CCA6\">False</td>\n",
        "                <td align=\"center\"></td>\n",
        "                <td align=\"center\" style=\"background-color:#92CCA6\">False</td>\n",
        "            </tr>\n",
        "        </table>\n",
        "        "
       ],
       "output_type": "display_data"
      },
      {
       "html": [
        "\n",
        "        <table>\n",
        "            <tr>\n",
        "                <td><a href=\"#\" onclick=\"$('#kbHyeQhkkz').toggle()\">+</a></td>\n",
        "                <td title=\"Variable name\">Name</td>\n",
        "                <td title=\"Value of parameter\">Value</td>\n",
        "                <td title=\"Parabolic error\">Parab Error</td>\n",
        "                <td title=\"Minos lower error\">Minos Error-</td>\n",
        "                <td title=\"Minos upper error\">Minos Error+</td>\n",
        "                <td title=\"Lower limit of the parameter\">Limit-</td>\n",
        "                <td title=\"Upper limit of the parameter\">Limit+</td>\n",
        "                <td title=\"Is the parameter fixed in the fit\">FIXED</td>\n",
        "            </tr>\n",
        "        \n",
        "            <tr>\n",
        "                <td>1</td>\n",
        "                <td>alpha</td>\n",
        "                <td>1.012962e+00</td>\n",
        "                <td>5.321735e-02</td>\n",
        "                <td>0.000000e+00</td>\n",
        "                <td>0.000000e+00</td>\n",
        "                <td></td>\n",
        "                <td></td>\n",
        "                <td></td>\n",
        "            </tr>\n",
        "            \n",
        "            <tr>\n",
        "                <td>2</td>\n",
        "                <td>n</td>\n",
        "                <td>1.812763e+00</td>\n",
        "                <td>2.177144e-01</td>\n",
        "                <td>0.000000e+00</td>\n",
        "                <td>0.000000e+00</td>\n",
        "                <td></td>\n",
        "                <td></td>\n",
        "                <td></td>\n",
        "            </tr>\n",
        "            \n",
        "            <tr>\n",
        "                <td>3</td>\n",
        "                <td>mean</td>\n",
        "                <td>9.982474e-01</td>\n",
        "                <td>5.583931e-03</td>\n",
        "                <td>0.000000e+00</td>\n",
        "                <td>0.000000e+00</td>\n",
        "                <td></td>\n",
        "                <td></td>\n",
        "                <td></td>\n",
        "            </tr>\n",
        "            \n",
        "            <tr>\n",
        "                <td>4</td>\n",
        "                <td>sigma</td>\n",
        "                <td>2.996611e-01</td>\n",
        "                <td>4.195338e-03</td>\n",
        "                <td>0.000000e+00</td>\n",
        "                <td>0.000000e+00</td>\n",
        "                <td></td>\n",
        "                <td></td>\n",
        "                <td></td>\n",
        "            </tr>\n",
        "            \n",
        "            </table>\n",
        "        \n",
        "            <pre id=\"kbHyeQhkkz\" style=\"display:none;\">\n",
        "            <textarea rows=\"14\" cols=\"50\" onclick=\"this.select()\" readonly>\\begin{tabular}{|c|r|r|r|r|r|r|r|c|}\n",
        "\\hline\n",
        " & Name & Value & Para Error & Error+ & Error- & Limit+ & Limit- & FIXED\\\\\n",
        "\\hline\n",
        "1 & $\\alpha$ & 1.013e+00 & 5.322e-02 &  &  &  &  & \\\\\n",
        "\\hline\n",
        "2 & n & 1.813e+00 & 2.177e-01 &  &  &  &  & \\\\\n",
        "\\hline\n",
        "3 & mean & 9.982e-01 & 5.584e-03 &  &  &  &  & \\\\\n",
        "\\hline\n",
        "4 & $\\sigma$ & 2.997e-01 & 4.195e-03 &  &  &  &  & \\\\\n",
        "\\hline\n",
        "\\end{tabular}</textarea>\n",
        "            </pre>\n",
        "            "
       ],
       "output_type": "display_data"
      },
      {
       "html": [
        "<hr>"
       ],
       "output_type": "display_data"
      },
      {
       "output_type": "display_data",
       "png": "[encoded data removed]",
       "text": [
        "<matplotlib.figure.Figure at 0x10537fe50>"
       ]
      }
     ],
     "prompt_number": 45
    },
    {
     "cell_type": "markdown",
     "metadata": {},
     "source": [
      "##But what if I know analytical integral formula\n",
      "probfit check for integrate method that can be called by integrate(bound, nint, *arg) to\n",
      "compute definite integral for given bound and nint(pieces of integral this is normally ignored)\n",
      "and the rest will be passed as positional argument. Couple of probfit already have analytical formula written."
     ]
    },
    {
     "cell_type": "code",
     "collapsed": false,
     "input": [
      "from probfit import integrate1d\n",
      "def line(x, m, c):\n",
      "    return m*x+c\n",
      "\n",
      "#compute integral of line from x=(0,1) using 10 intevals with m=1. and c=2.\n",
      "#all probfit internal use this\n",
      "print integrate1d(line, (0,1), 10, (1.,2.) ) # no integrate method available probfit use simpson3/8\n",
      "\n",
      "#Let us illustrate the point by forcing it to have integral that's off by\n",
      "#factor of two\n",
      "def wrong_line_integral(bound, nint, m, c):\n",
      "    a, b = bound\n",
      "    return 2*(m*(b**2/2.-a**2/2.)+c*(b-a)) # I know this is wrong \n",
      "line.integrate = wrong_line_integral\n",
      "# line.integrate = lambda bound, nint, m, c: blah blah # this works too\n",
      "print integrate1d(line, (0,1), 10, (1.,2.))"
     ],
     "language": "python",
     "metadata": {},
     "outputs": [
      {
       "output_type": "stream",
       "stream": "stdout",
       "text": [
        "2.5\n",
        "5.0\n"
       ]
      }
     ],
     "prompt_number": 46
    },
    {
     "cell_type": "heading",
     "level": 2,
     "metadata": {},
     "source": [
      "What if things went wrong"
     ]
    },
    {
     "cell_type": "code",
     "collapsed": false,
     "input": [
      "#crystalball is nortoriously sensitive to initial parameter\n",
      "#now it is a good time to show what happen when things...doesn't fit\n",
      "ublh = UnbinnedLH(ncball,data)\n",
      "minimizer = iminuit.Minuit(ublh)#NO initial value\n",
      "minimizer.set_up(0.5)#remember this is likelihood\n",
      "minimizer.migrad()#yes amazingly fast but tons of read\n",
      "#Remember there is a heads up"
     ],
     "language": "python",
     "metadata": {},
     "outputs": [
      {
       "output_type": "stream",
       "stream": "stderr",
       "text": [
        "-c:4: InitialParamWarning: Parameter alpha does not have initial value. Assume 0.\n",
        "-c:4: InitialParamWarning: Parameter alpha is floating but does not have initial step size. Assume 1.\n",
        "-c:4: InitialParamWarning: Parameter n does not have initial value. Assume 0.\n",
        "-c:4: InitialParamWarning: Parameter n is floating but does not have initial step size. Assume 1.\n",
        "-c:4: InitialParamWarning: Parameter mean does not have initial value. Assume 0.\n",
        "-c:4: InitialParamWarning: Parameter mean is floating but does not have initial step size. Assume 1.\n",
        "-c:4: InitialParamWarning: Parameter sigma does not have initial value. Assume 0.\n",
        "-c:4: InitialParamWarning: Parameter sigma is floating but does not have initial step size. Assume 1.\n"
       ]
      },
      {
       "html": [
        "<hr>"
       ],
       "output_type": "display_data"
      },
      {
       "html": [
        "\n",
        "        <table>\n",
        "            <tr>\n",
        "                <td title=\"Minimum value of function\">FCN = 10986.1228867</td>\n",
        "                <td title=\"Total number of call to FCN so far\">TOTAL NCALL = 230</td>\n",
        "                <td title=\"Number of call in last migrad\">NCALLS = 230</td>\n",
        "            </tr>\n",
        "            <tr>\n",
        "                <td title=\"Estimated distance to minimum\">EDM = 0.0</td>\n",
        "                <td title=\"Maximum EDM definition of convergence\">GOAL EDM = 5e-06</td>\n",
        "                <td title=\"Error def. Amount of increase in FCN to be defined as 1 standard deviation\">\n",
        "                UP = 0.5</td>\n",
        "            </tr>\n",
        "        </table>\n",
        "        \n",
        "        <table>\n",
        "            <tr>\n",
        "                <td align=\"center\" title=\"Validity of the migrad call\">Valid</td>\n",
        "                <td align=\"center\" title=\"Validity of parameters\">Valid Param</td>\n",
        "                <td align=\"center\" title=\"Is Covariance matrix accurate?\">Accurate Covar</td>\n",
        "                <td align=\"center\" title=\"Positive definiteness of covariance matrix\">PosDef</td>\n",
        "                <td align=\"center\" title=\"Was covariance matrix made posdef by adding diagonal element\">Made PosDef</td>\n",
        "            </tr>\n",
        "            <tr>\n",
        "                <td align=\"center\" style=\"background-color:#FF7878\">False</td>\n",
        "                <td align=\"center\" style=\"background-color:#92CCA6\">True</td>\n",
        "                <td align=\"center\" style=\"background-color:#FF7878\">False</td>\n",
        "                <td align=\"center\" style=\"background-color:#FF7878\">False</td>\n",
        "                <td align=\"center\" style=\"background-color:#92CCA6\">False</td>\n",
        "            </tr>\n",
        "            <tr>\n",
        "                <td align=\"center\" title=\"Was last hesse call fail?\">Hesse Fail</td>\n",
        "                <td align=\"center\" title=\"Validity of covariance\">HasCov</td>\n",
        "                <td align=\"center\" title=\"Is EDM above goal EDM?\">Above EDM</td>\n",
        "                <td align=\"center\"></td>\n",
        "                <td align=\"center\" title=\"Did last migrad call reach max call limit?\">Reach calllim</td>\n",
        "            </tr>\n",
        "            <tr>\n",
        "                <td align=\"center\" style=\"background-color:#FF7878\">True</td>\n",
        "                <td align=\"center\" style=\"background-color:#92CCA6\">True</td>\n",
        "                <td align=\"center\" style=\"background-color:#92CCA6\">False</td>\n",
        "                <td align=\"center\"></td>\n",
        "                <td align=\"center\" style=\"background-color:#92CCA6\">False</td>\n",
        "            </tr>\n",
        "        </table>\n",
        "        "
       ],
       "output_type": "display_data"
      },
      {
       "html": [
        "\n",
        "        <table>\n",
        "            <tr>\n",
        "                <td><a href=\"#\" onclick=\"$('#gvULpSZwgz').toggle()\">+</a></td>\n",
        "                <td title=\"Variable name\">Name</td>\n",
        "                <td title=\"Value of parameter\">Value</td>\n",
        "                <td title=\"Parabolic error\">Parab Error</td>\n",
        "                <td title=\"Minos lower error\">Minos Error-</td>\n",
        "                <td title=\"Minos upper error\">Minos Error+</td>\n",
        "                <td title=\"Lower limit of the parameter\">Limit-</td>\n",
        "                <td title=\"Upper limit of the parameter\">Limit+</td>\n",
        "                <td title=\"Is the parameter fixed in the fit\">FIXED</td>\n",
        "            </tr>\n",
        "        \n",
        "            <tr>\n",
        "                <td>1</td>\n",
        "                <td>alpha</td>\n",
        "                <td>0.000000e+00</td>\n",
        "                <td>1.000000e+00</td>\n",
        "                <td>0.000000e+00</td>\n",
        "                <td>0.000000e+00</td>\n",
        "                <td></td>\n",
        "                <td></td>\n",
        "                <td></td>\n",
        "            </tr>\n",
        "            \n",
        "            <tr>\n",
        "                <td>2</td>\n",
        "                <td>n</td>\n",
        "                <td>0.000000e+00</td>\n",
        "                <td>1.000000e+00</td>\n",
        "                <td>0.000000e+00</td>\n",
        "                <td>0.000000e+00</td>\n",
        "                <td></td>\n",
        "                <td></td>\n",
        "                <td></td>\n",
        "            </tr>\n",
        "            \n",
        "            <tr>\n",
        "                <td>3</td>\n",
        "                <td>mean</td>\n",
        "                <td>0.000000e+00</td>\n",
        "                <td>1.000000e+00</td>\n",
        "                <td>0.000000e+00</td>\n",
        "                <td>0.000000e+00</td>\n",
        "                <td></td>\n",
        "                <td></td>\n",
        "                <td></td>\n",
        "            </tr>\n",
        "            \n",
        "            <tr>\n",
        "                <td>4</td>\n",
        "                <td>sigma</td>\n",
        "                <td>0.000000e+00</td>\n",
        "                <td>1.000000e+00</td>\n",
        "                <td>0.000000e+00</td>\n",
        "                <td>0.000000e+00</td>\n",
        "                <td></td>\n",
        "                <td></td>\n",
        "                <td></td>\n",
        "            </tr>\n",
        "            \n",
        "            </table>\n",
        "        \n",
        "            <pre id=\"gvULpSZwgz\" style=\"display:none;\">\n",
        "            <textarea rows=\"14\" cols=\"50\" onclick=\"this.select()\" readonly>\\begin{tabular}{|c|r|r|r|r|r|r|r|c|}\n",
        "\\hline\n",
        " & Name & Value & Para Error & Error+ & Error- & Limit+ & Limit- & FIXED\\\\\n",
        "\\hline\n",
        "1 & $\\alpha$ & 0.000e+00 & 1.000e+00 &  &  &  &  & \\\\\n",
        "\\hline\n",
        "2 & n & 0.000e+00 & 1.000e+00 &  &  &  &  & \\\\\n",
        "\\hline\n",
        "3 & mean & 0.000e+00 & 1.000e+00 &  &  &  &  & \\\\\n",
        "\\hline\n",
        "4 & $\\sigma$ & 0.000e+00 & 1.000e+00 &  &  &  &  & \\\\\n",
        "\\hline\n",
        "\\end{tabular}</textarea>\n",
        "            </pre>\n",
        "            "
       ],
       "output_type": "display_data"
      },
      {
       "html": [
        "<hr>"
       ],
       "output_type": "display_data"
      },
      {
       "output_type": "pyout",
       "prompt_number": 47,
       "text": [
        "({'hesse_failed': True, 'has_reached_call_limit': False, 'has_accurate_covar': False, 'has_posdef_covar': False, 'up': 0.5, 'edm': 0.0, 'is_valid': False, 'is_above_max_edm': False, 'has_covariance': True, 'has_made_posdef_covar': False, 'has_valid_parameters': True, 'fval': 10986.122886679714, 'nfcn': 230},\n",
        " [{'is_const': False, 'name': 'alpha', 'has_limits': False, 'value': 0.0, 'number': 0L, 'has_lower_limit': False, 'upper_limit': 0.0, 'lower_limit': 0.0, 'has_upper_limit': False, 'error': 1.0, 'is_fixed': False},\n",
        "  {'is_const': False, 'name': 'n', 'has_limits': False, 'value': 0.0, 'number': 1L, 'has_lower_limit': False, 'upper_limit': 0.0, 'lower_limit': 0.0, 'has_upper_limit': False, 'error': 1.0, 'is_fixed': False},\n",
        "  {'is_const': False, 'name': 'mean', 'has_limits': False, 'value': 0.0, 'number': 2L, 'has_lower_limit': False, 'upper_limit': 0.0, 'lower_limit': 0.0, 'has_upper_limit': False, 'error': 1.0, 'is_fixed': False},\n",
        "  {'is_const': False, 'name': 'sigma', 'has_limits': False, 'value': 0.0, 'number': 3L, 'has_lower_limit': False, 'upper_limit': 0.0, 'lower_limit': 0.0, 'has_upper_limit': False, 'error': 1.0, 'is_fixed': False}])"
       ]
      }
     ],
     "prompt_number": 47
    },
    {
     "cell_type": "code",
     "collapsed": false,
     "input": [
      "ublh.show(minimizer)#it bounds to fails"
     ],
     "language": "python",
     "metadata": {},
     "outputs": [
      {
       "output_type": "display_data",
       "png": "[encoded data removed]",
       "text": [
        "<matplotlib.figure.Figure at 0x10543e850>"
       ]
      }
     ],
     "prompt_number": 48
    },
    {
     "cell_type": "code",
     "collapsed": false,
     "input": [
      "minimizer.migrad_ok(), minimizer.matrix_accurate()\n",
      "#checking these two method give you a good sign"
     ],
     "language": "python",
     "metadata": {},
     "outputs": [
      {
       "output_type": "pyout",
       "prompt_number": 49,
       "text": [
        "(False, False)"
       ]
      }
     ],
     "prompt_number": 49
    },
    {
     "cell_type": "code",
     "collapsed": false,
     "input": [
      "#fix it by giving it initial value/error/limit or fixing parameter see iminuit Tutorial\n",
      "#now we can fit as usual\n",
      "ublh = UnbinnedLH(ncball,data)\n",
      "minimizer = iminuit.Minuit(ublh,\n",
      "    alpha=1.,n=2.1,mean=1.2,sigma=0.3)\n",
      "minimizer.set_up(0.5)#remember this is likelihood\n",
      "minimizer.migrad()#yes amazingly fast. Normalize is written in cython\n",
      "ublh.show(minimizer)"
     ],
     "language": "python",
     "metadata": {},
     "outputs": [
      {
       "output_type": "stream",
       "stream": "stderr",
       "text": [
        "-c:5: InitialParamWarning: Parameter alpha is floating but does not have initial step size. Assume 1.\n",
        "-c:5: InitialParamWarning: Parameter n is floating but does not have initial step size. Assume 1.\n",
        "-c:5: InitialParamWarning: Parameter mean is floating but does not have initial step size. Assume 1.\n",
        "-c:5: InitialParamWarning: Parameter sigma is floating but does not have initial step size. Assume 1.\n"
       ]
      },
      {
       "html": [
        "<hr>"
       ],
       "output_type": "display_data"
      },
      {
       "html": [
        "\n",
        "        <table>\n",
        "            <tr>\n",
        "                <td title=\"Minimum value of function\">FCN = 6154.37579109</td>\n",
        "                <td title=\"Total number of call to FCN so far\">TOTAL NCALL = 178</td>\n",
        "                <td title=\"Number of call in last migrad\">NCALLS = 178</td>\n",
        "            </tr>\n",
        "            <tr>\n",
        "                <td title=\"Estimated distance to minimum\">EDM = 1.09346528365e-06</td>\n",
        "                <td title=\"Maximum EDM definition of convergence\">GOAL EDM = 5e-06</td>\n",
        "                <td title=\"Error def. Amount of increase in FCN to be defined as 1 standard deviation\">\n",
        "                UP = 0.5</td>\n",
        "            </tr>\n",
        "        </table>\n",
        "        \n",
        "        <table>\n",
        "            <tr>\n",
        "                <td align=\"center\" title=\"Validity of the migrad call\">Valid</td>\n",
        "                <td align=\"center\" title=\"Validity of parameters\">Valid Param</td>\n",
        "                <td align=\"center\" title=\"Is Covariance matrix accurate?\">Accurate Covar</td>\n",
        "                <td align=\"center\" title=\"Positive definiteness of covariance matrix\">PosDef</td>\n",
        "                <td align=\"center\" title=\"Was covariance matrix made posdef by adding diagonal element\">Made PosDef</td>\n",
        "            </tr>\n",
        "            <tr>\n",
        "                <td align=\"center\" style=\"background-color:#92CCA6\">True</td>\n",
        "                <td align=\"center\" style=\"background-color:#92CCA6\">True</td>\n",
        "                <td align=\"center\" style=\"background-color:#92CCA6\">True</td>\n",
        "                <td align=\"center\" style=\"background-color:#92CCA6\">True</td>\n",
        "                <td align=\"center\" style=\"background-color:#92CCA6\">False</td>\n",
        "            </tr>\n",
        "            <tr>\n",
        "                <td align=\"center\" title=\"Was last hesse call fail?\">Hesse Fail</td>\n",
        "                <td align=\"center\" title=\"Validity of covariance\">HasCov</td>\n",
        "                <td align=\"center\" title=\"Is EDM above goal EDM?\">Above EDM</td>\n",
        "                <td align=\"center\"></td>\n",
        "                <td align=\"center\" title=\"Did last migrad call reach max call limit?\">Reach calllim</td>\n",
        "            </tr>\n",
        "            <tr>\n",
        "                <td align=\"center\" style=\"background-color:#92CCA6\">False</td>\n",
        "                <td align=\"center\" style=\"background-color:#92CCA6\">True</td>\n",
        "                <td align=\"center\" style=\"background-color:#92CCA6\">False</td>\n",
        "                <td align=\"center\"></td>\n",
        "                <td align=\"center\" style=\"background-color:#92CCA6\">False</td>\n",
        "            </tr>\n",
        "        </table>\n",
        "        "
       ],
       "output_type": "display_data"
      },
      {
       "html": [
        "\n",
        "        <table>\n",
        "            <tr>\n",
        "                <td><a href=\"#\" onclick=\"$('#NoRIFJrPqj').toggle()\">+</a></td>\n",
        "                <td title=\"Variable name\">Name</td>\n",
        "                <td title=\"Value of parameter\">Value</td>\n",
        "                <td title=\"Parabolic error\">Parab Error</td>\n",
        "                <td title=\"Minos lower error\">Minos Error-</td>\n",
        "                <td title=\"Minos upper error\">Minos Error+</td>\n",
        "                <td title=\"Lower limit of the parameter\">Limit-</td>\n",
        "                <td title=\"Upper limit of the parameter\">Limit+</td>\n",
        "                <td title=\"Is the parameter fixed in the fit\">FIXED</td>\n",
        "            </tr>\n",
        "        \n",
        "            <tr>\n",
        "                <td>1</td>\n",
        "                <td>alpha</td>\n",
        "                <td>1.012962e+00</td>\n",
        "                <td>5.321735e-02</td>\n",
        "                <td>0.000000e+00</td>\n",
        "                <td>0.000000e+00</td>\n",
        "                <td></td>\n",
        "                <td></td>\n",
        "                <td></td>\n",
        "            </tr>\n",
        "            \n",
        "            <tr>\n",
        "                <td>2</td>\n",
        "                <td>n</td>\n",
        "                <td>1.812763e+00</td>\n",
        "                <td>2.177144e-01</td>\n",
        "                <td>0.000000e+00</td>\n",
        "                <td>0.000000e+00</td>\n",
        "                <td></td>\n",
        "                <td></td>\n",
        "                <td></td>\n",
        "            </tr>\n",
        "            \n",
        "            <tr>\n",
        "                <td>3</td>\n",
        "                <td>mean</td>\n",
        "                <td>9.982474e-01</td>\n",
        "                <td>5.583931e-03</td>\n",
        "                <td>0.000000e+00</td>\n",
        "                <td>0.000000e+00</td>\n",
        "                <td></td>\n",
        "                <td></td>\n",
        "                <td></td>\n",
        "            </tr>\n",
        "            \n",
        "            <tr>\n",
        "                <td>4</td>\n",
        "                <td>sigma</td>\n",
        "                <td>2.996611e-01</td>\n",
        "                <td>4.195338e-03</td>\n",
        "                <td>0.000000e+00</td>\n",
        "                <td>0.000000e+00</td>\n",
        "                <td></td>\n",
        "                <td></td>\n",
        "                <td></td>\n",
        "            </tr>\n",
        "            \n",
        "            </table>\n",
        "        \n",
        "            <pre id=\"NoRIFJrPqj\" style=\"display:none;\">\n",
        "            <textarea rows=\"14\" cols=\"50\" onclick=\"this.select()\" readonly>\\begin{tabular}{|c|r|r|r|r|r|r|r|c|}\n",
        "\\hline\n",
        " & Name & Value & Para Error & Error+ & Error- & Limit+ & Limit- & FIXED\\\\\n",
        "\\hline\n",
        "1 & $\\alpha$ & 1.013e+00 & 5.322e-02 &  &  &  &  & \\\\\n",
        "\\hline\n",
        "2 & n & 1.813e+00 & 2.177e-01 &  &  &  &  & \\\\\n",
        "\\hline\n",
        "3 & mean & 9.982e-01 & 5.584e-03 &  &  &  &  & \\\\\n",
        "\\hline\n",
        "4 & $\\sigma$ & 2.997e-01 & 4.195e-03 &  &  &  &  & \\\\\n",
        "\\hline\n",
        "\\end{tabular}</textarea>\n",
        "            </pre>\n",
        "            "
       ],
       "output_type": "display_data"
      },
      {
       "html": [
        "<hr>"
       ],
       "output_type": "display_data"
      },
      {
       "output_type": "display_data",
       "png": "[encoded data removed]",
       "text": [
        "<matplotlib.figure.Figure at 0x105754d90>"
       ]
      }
     ],
     "prompt_number": 50
    },
    {
     "cell_type": "markdown",
     "metadata": {},
     "source": [
      "##How do we guess initial value?\n",
      "\n",
      "This is a hard question but visualization can helps us"
     ]
    },
    {
     "cell_type": "code",
     "collapsed": false,
     "input": [
      "from probfit import try_uml, Normalized, crystalball, gen_toy"
     ],
     "language": "python",
     "metadata": {},
     "outputs": [],
     "prompt_number": 51
    },
    {
     "cell_type": "code",
     "collapsed": false,
     "input": [
      "bound = (-1,2)\n",
      "ncball = Normalized(crystalball,bound)\n",
      "data = gen_toy(crystalball,10000,bound=bound,alpha=1.,n=2.,mean=1.,sigma=0.3)"
     ],
     "language": "python",
     "metadata": {},
     "outputs": [],
     "prompt_number": 52
    },
    {
     "cell_type": "code",
     "collapsed": false,
     "input": [
      "besttry = try_uml(ncball,data,alpha=1.,n=2.1,mean=1.2,sigma=0.3)"
     ],
     "language": "python",
     "metadata": {},
     "outputs": [
      {
       "output_type": "display_data",
       "png": "[encoded data removed]",
       "text": [
        "<matplotlib.figure.Figure at 0x100442390>"
       ]
      }
     ],
     "prompt_number": 53
    },
    {
     "cell_type": "code",
     "collapsed": false,
     "input": [
      "#or you can try multiple\n",
      "#too many will just confuse you\n",
      "besttry = try_uml(ncball,data,alpha=1.,n=2.1,mean=[1.2,1.1],sigma=[0.3,0.5])\n",
      "print besttry #and you can find which one give you minimal unbinned likelihood"
     ],
     "language": "python",
     "metadata": {},
     "outputs": [
      {
       "output_type": "stream",
       "stream": "stdout",
       "text": [
        "{'alpha': 1.0, 'mean': 1.1, 'sigma': 0.3, 'n': 2.1}\n"
       ]
      },
      {
       "output_type": "display_data",
       "png": "[encoded data removed]",
       "text": [
        "<matplotlib.figure.Figure at 0x105439790>"
       ]
      }
     ],
     "prompt_number": 54
    },
    {
     "cell_type": "heading",
     "level": 2,
     "metadata": {},
     "source": [
      "Extended Fit: 2 Gaussian with Polynomial Background"
     ]
    },
    {
     "cell_type": "code",
     "collapsed": false,
     "input": [
      "import numpy.random as npr\n",
      "from probfit import gen_toy, gaussian, Extended, describe, try_binlh, BinnedLH\n",
      "import numpy as np\n",
      "import iminuit"
     ],
     "language": "python",
     "metadata": {},
     "outputs": [],
     "prompt_number": 55
    },
    {
     "cell_type": "code",
     "collapsed": false,
     "input": [
      "peak1 = npr.randn(3000)*0.2\n",
      "peak2 = npr.randn(5000)*0.1+4\n",
      "bg = gen_toy(lambda x : (x+2)**2, 20000,(-2,5))\n",
      "all_data = np.concatenate([peak1,peak2,bg])\n",
      "hist((peak1,peak2,bg,all_data),bins=200,histtype='step',range=(-2,5));"
     ],
     "language": "python",
     "metadata": {},
     "outputs": [
      {
       "output_type": "display_data",
       "png": "[encoded data removed]",
       "text": [
        "<matplotlib.figure.Figure at 0x1050ec450>"
       ]
      }
     ],
     "prompt_number": 56
    },
    {
     "cell_type": "code",
     "collapsed": false,
     "input": [
      "%load_ext cythonmagic"
     ],
     "language": "python",
     "metadata": {},
     "outputs": [
      {
       "output_type": "stream",
       "stream": "stdout",
       "text": [
        "The cythonmagic extension is already loaded. To reload it, use:\n",
        "  %reload_ext cythonmagic\n"
       ]
      }
     ],
     "prompt_number": 57
    },
    {
     "cell_type": "code",
     "collapsed": false,
     "input": [
      "%%cython\n",
      "cimport cython\n",
      "from probfit import Normalized, gaussian\n",
      "\n",
      "@cython.binding(True)\n",
      "def poly(double x,double a,double b, double c):\n",
      "    return a*x*x+b*x+c\n",
      "\n",
      "#remember linear function is not normalizable for -inf ... +inf\n",
      "nlin = Normalized(poly,(-1,5))\n",
      "\n",
      "#our extended PDF for 3 types of signal\n",
      "@cython.binding(True)\n",
      "def myPDF(double x, \n",
      "    double a, double b, double c, double nbg,\n",
      "    double mu1, double sigma1, double nsig1,\n",
      "    double mu2, double sigma2, double nsig2):\n",
      "\n",
      "    cdef double NBG = nbg*nlin(x,a,b,c)\n",
      "    cdef double NSIG1 = nsig1*gaussian(x,mu1,sigma1) \n",
      "    cdef double NSIG2 = nsig2*gaussian(x,mu2,sigma2)\n",
      "    return NBG + NSIG1 + NSIG2"
     ],
     "language": "python",
     "metadata": {},
     "outputs": [],
     "prompt_number": 58
    },
    {
     "cell_type": "code",
     "collapsed": false,
     "input": [
      "print describe(myPDF)"
     ],
     "language": "python",
     "metadata": {},
     "outputs": [
      {
       "output_type": "stream",
       "stream": "stdout",
       "text": [
        "['x', 'a', 'b', 'c', 'nbg', 'mu1', 'sigma1', 'nsig1', 'mu2', 'sigma2', 'nsig2']\n"
       ]
      }
     ],
     "prompt_number": 59
    },
    {
     "cell_type": "code",
     "collapsed": false,
     "input": [
      "#lets use what we just learned\n",
      "#for complicated function good initial value(and initial step) is crucial\n",
      "#if it doesn't converge try play with initial value and initial stepsize(error_xxx)\n",
      "besttry = try_binlh(myPDF,all_data, \n",
      "    a=1.,b=2.,c=4.,nbg=20000.,\n",
      "    mu1=0.1,sigma1=0.2,nsig1=3000.,\n",
      "    mu2=3.9,sigma2=0.1,nsig2=5000.,extended=True, bins=300, bound=(-1,5) )\n",
      "print besttry"
     ],
     "language": "python",
     "metadata": {},
     "outputs": [
      {
       "output_type": "stream",
       "stream": "stdout",
       "text": [
        "{'a': 1.0, 'c': 4.0, 'b': 2.0, 'mu1': 0.1, 'mu2': 3.9, 'sigma1': 0.2, 'nsig2': 5000.0, 'nsig1': 3000.0, 'nbg': 20000.0, 'sigma2': 0.1}\n"
       ]
      },
      {
       "output_type": "display_data",
       "png": "[encoded data removed]",
       "text": [
        "<matplotlib.figure.Figure at 0x105303510>"
       ]
      }
     ],
     "prompt_number": 60
    },
    {
     "cell_type": "code",
     "collapsed": false,
     "input": [
      "binlh = BinnedLH(myPDF,all_data, bins=200, extended=True, bound=(-1,5))\n",
      "#too lazy to type initial values from what we try?\n",
      "#use keyword expansion **besttry\n",
      "#need to put in initial step size for mu1 and mu2 \n",
      "#with error_mu* otherwise it won't converge(try it yourself)\n",
      "minimizer = iminuit.Minuit(binlh, error_mu1=0.1, error_mu2=0.1, **besttry)"
     ],
     "language": "python",
     "metadata": {},
     "outputs": [
      {
       "output_type": "stream",
       "stream": "stderr",
       "text": [
        "-c:6: InitialParamWarning: Parameter a is floating but does not have initial step size. Assume 1.\n",
        "-c:6: InitialParamWarning: Parameter b is floating but does not have initial step size. Assume 1.\n",
        "-c:6: InitialParamWarning: Parameter c is floating but does not have initial step size. Assume 1.\n",
        "-c:6: InitialParamWarning: Parameter nbg is floating but does not have initial step size. Assume 1.\n",
        "-c:6: InitialParamWarning: Parameter sigma1 is floating but does not have initial step size. Assume 1.\n",
        "-c:6: InitialParamWarning: Parameter nsig1 is floating but does not have initial step size. Assume 1.\n",
        "-c:6: InitialParamWarning: Parameter sigma2 is floating but does not have initial step size. Assume 1.\n",
        "-c:6: InitialParamWarning: Parameter nsig2 is floating but does not have initial step size. Assume 1.\n"
       ]
      }
     ],
     "prompt_number": 61
    },
    {
     "cell_type": "code",
     "collapsed": false,
     "input": [
      "minimizer.migrad();"
     ],
     "language": "python",
     "metadata": {},
     "outputs": [
      {
       "html": [
        "<hr>"
       ],
       "output_type": "display_data"
      },
      {
       "html": [
        "\n",
        "        <table>\n",
        "            <tr>\n",
        "                <td title=\"Minimum value of function\">FCN = 102.412104526</td>\n",
        "                <td title=\"Total number of call to FCN so far\">TOTAL NCALL = 253</td>\n",
        "                <td title=\"Number of call in last migrad\">NCALLS = 253</td>\n",
        "            </tr>\n",
        "            <tr>\n",
        "                <td title=\"Estimated distance to minimum\">EDM = 1.65495586688e-06</td>\n",
        "                <td title=\"Maximum EDM definition of convergence\">GOAL EDM = 5e-06</td>\n",
        "                <td title=\"Error def. Amount of increase in FCN to be defined as 1 standard deviation\">\n",
        "                UP = 0.5</td>\n",
        "            </tr>\n",
        "        </table>\n",
        "        \n",
        "        <table>\n",
        "            <tr>\n",
        "                <td align=\"center\" title=\"Validity of the migrad call\">Valid</td>\n",
        "                <td align=\"center\" title=\"Validity of parameters\">Valid Param</td>\n",
        "                <td align=\"center\" title=\"Is Covariance matrix accurate?\">Accurate Covar</td>\n",
        "                <td align=\"center\" title=\"Positive definiteness of covariance matrix\">PosDef</td>\n",
        "                <td align=\"center\" title=\"Was covariance matrix made posdef by adding diagonal element\">Made PosDef</td>\n",
        "            </tr>\n",
        "            <tr>\n",
        "                <td align=\"center\" style=\"background-color:#92CCA6\">True</td>\n",
        "                <td align=\"center\" style=\"background-color:#92CCA6\">True</td>\n",
        "                <td align=\"center\" style=\"background-color:#92CCA6\">True</td>\n",
        "                <td align=\"center\" style=\"background-color:#92CCA6\">True</td>\n",
        "                <td align=\"center\" style=\"background-color:#92CCA6\">False</td>\n",
        "            </tr>\n",
        "            <tr>\n",
        "                <td align=\"center\" title=\"Was last hesse call fail?\">Hesse Fail</td>\n",
        "                <td align=\"center\" title=\"Validity of covariance\">HasCov</td>\n",
        "                <td align=\"center\" title=\"Is EDM above goal EDM?\">Above EDM</td>\n",
        "                <td align=\"center\"></td>\n",
        "                <td align=\"center\" title=\"Did last migrad call reach max call limit?\">Reach calllim</td>\n",
        "            </tr>\n",
        "            <tr>\n",
        "                <td align=\"center\" style=\"background-color:#92CCA6\">False</td>\n",
        "                <td align=\"center\" style=\"background-color:#92CCA6\">True</td>\n",
        "                <td align=\"center\" style=\"background-color:#92CCA6\">False</td>\n",
        "                <td align=\"center\"></td>\n",
        "                <td align=\"center\" style=\"background-color:#92CCA6\">False</td>\n",
        "            </tr>\n",
        "        </table>\n",
        "        "
       ],
       "output_type": "display_data"
      },
      {
       "html": [
        "\n",
        "        <table>\n",
        "            <tr>\n",
        "                <td><a href=\"#\" onclick=\"$('#QCjkYweJit').toggle()\">+</a></td>\n",
        "                <td title=\"Variable name\">Name</td>\n",
        "                <td title=\"Value of parameter\">Value</td>\n",
        "                <td title=\"Parabolic error\">Parab Error</td>\n",
        "                <td title=\"Minos lower error\">Minos Error-</td>\n",
        "                <td title=\"Minos upper error\">Minos Error+</td>\n",
        "                <td title=\"Lower limit of the parameter\">Limit-</td>\n",
        "                <td title=\"Upper limit of the parameter\">Limit+</td>\n",
        "                <td title=\"Is the parameter fixed in the fit\">FIXED</td>\n",
        "            </tr>\n",
        "        \n",
        "            <tr>\n",
        "                <td>1</td>\n",
        "                <td>a</td>\n",
        "                <td>8.328082e-01</td>\n",
        "                <td>4.684544e-02</td>\n",
        "                <td>0.000000e+00</td>\n",
        "                <td>0.000000e+00</td>\n",
        "                <td></td>\n",
        "                <td></td>\n",
        "                <td></td>\n",
        "            </tr>\n",
        "            \n",
        "            <tr>\n",
        "                <td>2</td>\n",
        "                <td>b</td>\n",
        "                <td>3.636513e+00</td>\n",
        "                <td>1.243742e-01</td>\n",
        "                <td>0.000000e+00</td>\n",
        "                <td>0.000000e+00</td>\n",
        "                <td></td>\n",
        "                <td></td>\n",
        "                <td></td>\n",
        "            </tr>\n",
        "            \n",
        "            <tr>\n",
        "                <td>3</td>\n",
        "                <td>c</td>\n",
        "                <td>3.544285e+00</td>\n",
        "                <td>1.310163e-01</td>\n",
        "                <td>0.000000e+00</td>\n",
        "                <td>0.000000e+00</td>\n",
        "                <td></td>\n",
        "                <td></td>\n",
        "                <td></td>\n",
        "            </tr>\n",
        "            \n",
        "            <tr>\n",
        "                <td>4</td>\n",
        "                <td>nbg</td>\n",
        "                <td>1.991538e+04</td>\n",
        "                <td>1.633711e+02</td>\n",
        "                <td>0.000000e+00</td>\n",
        "                <td>0.000000e+00</td>\n",
        "                <td></td>\n",
        "                <td></td>\n",
        "                <td></td>\n",
        "            </tr>\n",
        "            \n",
        "            <tr>\n",
        "                <td>5</td>\n",
        "                <td>mu1</td>\n",
        "                <td>-1.479097e-03</td>\n",
        "                <td>4.663990e-03</td>\n",
        "                <td>0.000000e+00</td>\n",
        "                <td>0.000000e+00</td>\n",
        "                <td></td>\n",
        "                <td></td>\n",
        "                <td></td>\n",
        "            </tr>\n",
        "            \n",
        "            <tr>\n",
        "                <td>6</td>\n",
        "                <td>sigma1</td>\n",
        "                <td>1.962934e-01</td>\n",
        "                <td>4.062938e-03</td>\n",
        "                <td>0.000000e+00</td>\n",
        "                <td>0.000000e+00</td>\n",
        "                <td></td>\n",
        "                <td></td>\n",
        "                <td></td>\n",
        "            </tr>\n",
        "            \n",
        "            <tr>\n",
        "                <td>7</td>\n",
        "                <td>nsig1</td>\n",
        "                <td>2.989627e+03</td>\n",
        "                <td>6.936758e+01</td>\n",
        "                <td>0.000000e+00</td>\n",
        "                <td>0.000000e+00</td>\n",
        "                <td></td>\n",
        "                <td></td>\n",
        "                <td></td>\n",
        "            </tr>\n",
        "            \n",
        "            <tr>\n",
        "                <td>8</td>\n",
        "                <td>mu2</td>\n",
        "                <td>4.003400e+00</td>\n",
        "                <td>2.078124e-03</td>\n",
        "                <td>0.000000e+00</td>\n",
        "                <td>0.000000e+00</td>\n",
        "                <td></td>\n",
        "                <td></td>\n",
        "                <td></td>\n",
        "            </tr>\n",
        "            \n",
        "            <tr>\n",
        "                <td>9</td>\n",
        "                <td>sigma2</td>\n",
        "                <td>9.867706e-02</td>\n",
        "                <td>1.988008e-03</td>\n",
        "                <td>0.000000e+00</td>\n",
        "                <td>0.000000e+00</td>\n",
        "                <td></td>\n",
        "                <td></td>\n",
        "                <td></td>\n",
        "            </tr>\n",
        "            \n",
        "            <tr>\n",
        "                <td>10</td>\n",
        "                <td>nsig2</td>\n",
        "                <td>5.050094e+03</td>\n",
        "                <td>1.004303e+02</td>\n",
        "                <td>0.000000e+00</td>\n",
        "                <td>0.000000e+00</td>\n",
        "                <td></td>\n",
        "                <td></td>\n",
        "                <td></td>\n",
        "            </tr>\n",
        "            \n",
        "            </table>\n",
        "        \n",
        "            <pre id=\"QCjkYweJit\" style=\"display:none;\">\n",
        "            <textarea rows=\"26\" cols=\"50\" onclick=\"this.select()\" readonly>\\begin{tabular}{|c|r|r|r|r|r|r|r|c|}\n",
        "\\hline\n",
        " & Name & Value & Para Error & Error+ & Error- & Limit+ & Limit- & FIXED\\\\\n",
        "\\hline\n",
        "1 & a & 8.328e-01 & 4.685e-02 &  &  &  &  & \\\\\n",
        "\\hline\n",
        "2 & b & 3.637e+00 & 1.244e-01 &  &  &  &  & \\\\\n",
        "\\hline\n",
        "3 & c & 3.544e+00 & 1.310e-01 &  &  &  &  & \\\\\n",
        "\\hline\n",
        "4 & nbg & 1.992e+04 & 1.634e+02 &  &  &  &  & \\\\\n",
        "\\hline\n",
        "5 & mu1 & -1.479e-03 & 4.664e-03 &  &  &  &  & \\\\\n",
        "\\hline\n",
        "6 & sigma1 & 1.963e-01 & 4.063e-03 &  &  &  &  & \\\\\n",
        "\\hline\n",
        "7 & nsig1 & 2.990e+03 & 6.937e+01 &  &  &  &  & \\\\\n",
        "\\hline\n",
        "8 & mu2 & 4.003e+00 & 2.078e-03 &  &  &  &  & \\\\\n",
        "\\hline\n",
        "9 & sigma2 & 9.868e-02 & 1.988e-03 &  &  &  &  & \\\\\n",
        "\\hline\n",
        "10 & nsig2 & 5.050e+03 & 1.004e+02 &  &  &  &  & \\\\\n",
        "\\hline\n",
        "\\end{tabular}</textarea>\n",
        "            </pre>\n",
        "            "
       ],
       "output_type": "display_data"
      },
      {
       "html": [
        "<hr>"
       ],
       "output_type": "display_data"
      }
     ],
     "prompt_number": 62
    },
    {
     "cell_type": "code",
     "collapsed": false,
     "input": [
      "binlh.show(minimizer)"
     ],
     "language": "python",
     "metadata": {},
     "outputs": [
      {
       "output_type": "display_data",
       "png": "[encoded data removed]",
       "text": [
        "<matplotlib.figure.Figure at 0x1054d1510>"
       ]
      }
     ],
     "prompt_number": 63
    },
    {
     "cell_type": "code",
     "collapsed": false,
     "input": [
      "minimizer.print_fmin()"
     ],
     "language": "python",
     "metadata": {},
     "outputs": [
      {
       "html": [
        "<hr>"
       ],
       "output_type": "display_data"
      },
      {
       "html": [
        "\n",
        "        <table>\n",
        "            <tr>\n",
        "                <td title=\"Minimum value of function\">FCN = 102.412104526</td>\n",
        "                <td title=\"Total number of call to FCN so far\">TOTAL NCALL = 253</td>\n",
        "                <td title=\"Number of call in last migrad\">NCALLS = 253</td>\n",
        "            </tr>\n",
        "            <tr>\n",
        "                <td title=\"Estimated distance to minimum\">EDM = 1.65495586688e-06</td>\n",
        "                <td title=\"Maximum EDM definition of convergence\">GOAL EDM = 5e-06</td>\n",
        "                <td title=\"Error def. Amount of increase in FCN to be defined as 1 standard deviation\">\n",
        "                UP = 0.5</td>\n",
        "            </tr>\n",
        "        </table>\n",
        "        \n",
        "        <table>\n",
        "            <tr>\n",
        "                <td align=\"center\" title=\"Validity of the migrad call\">Valid</td>\n",
        "                <td align=\"center\" title=\"Validity of parameters\">Valid Param</td>\n",
        "                <td align=\"center\" title=\"Is Covariance matrix accurate?\">Accurate Covar</td>\n",
        "                <td align=\"center\" title=\"Positive definiteness of covariance matrix\">PosDef</td>\n",
        "                <td align=\"center\" title=\"Was covariance matrix made posdef by adding diagonal element\">Made PosDef</td>\n",
        "            </tr>\n",
        "            <tr>\n",
        "                <td align=\"center\" style=\"background-color:#92CCA6\">True</td>\n",
        "                <td align=\"center\" style=\"background-color:#92CCA6\">True</td>\n",
        "                <td align=\"center\" style=\"background-color:#92CCA6\">True</td>\n",
        "                <td align=\"center\" style=\"background-color:#92CCA6\">True</td>\n",
        "                <td align=\"center\" style=\"background-color:#92CCA6\">False</td>\n",
        "            </tr>\n",
        "            <tr>\n",
        "                <td align=\"center\" title=\"Was last hesse call fail?\">Hesse Fail</td>\n",
        "                <td align=\"center\" title=\"Validity of covariance\">HasCov</td>\n",
        "                <td align=\"center\" title=\"Is EDM above goal EDM?\">Above EDM</td>\n",
        "                <td align=\"center\"></td>\n",
        "                <td align=\"center\" title=\"Did last migrad call reach max call limit?\">Reach calllim</td>\n",
        "            </tr>\n",
        "            <tr>\n",
        "                <td align=\"center\" style=\"background-color:#92CCA6\">False</td>\n",
        "                <td align=\"center\" style=\"background-color:#92CCA6\">True</td>\n",
        "                <td align=\"center\" style=\"background-color:#92CCA6\">False</td>\n",
        "                <td align=\"center\"></td>\n",
        "                <td align=\"center\" style=\"background-color:#92CCA6\">False</td>\n",
        "            </tr>\n",
        "        </table>\n",
        "        "
       ],
       "output_type": "display_data"
      },
      {
       "html": [
        "\n",
        "        <table>\n",
        "            <tr>\n",
        "                <td><a href=\"#\" onclick=\"$('#VVdoAKYZkK').toggle()\">+</a></td>\n",
        "                <td title=\"Variable name\">Name</td>\n",
        "                <td title=\"Value of parameter\">Value</td>\n",
        "                <td title=\"Parabolic error\">Parab Error</td>\n",
        "                <td title=\"Minos lower error\">Minos Error-</td>\n",
        "                <td title=\"Minos upper error\">Minos Error+</td>\n",
        "                <td title=\"Lower limit of the parameter\">Limit-</td>\n",
        "                <td title=\"Upper limit of the parameter\">Limit+</td>\n",
        "                <td title=\"Is the parameter fixed in the fit\">FIXED</td>\n",
        "            </tr>\n",
        "        \n",
        "            <tr>\n",
        "                <td>1</td>\n",
        "                <td>a</td>\n",
        "                <td>8.328082e-01</td>\n",
        "                <td>4.684544e-02</td>\n",
        "                <td>0.000000e+00</td>\n",
        "                <td>0.000000e+00</td>\n",
        "                <td></td>\n",
        "                <td></td>\n",
        "                <td></td>\n",
        "            </tr>\n",
        "            \n",
        "            <tr>\n",
        "                <td>2</td>\n",
        "                <td>b</td>\n",
        "                <td>3.636513e+00</td>\n",
        "                <td>1.243742e-01</td>\n",
        "                <td>0.000000e+00</td>\n",
        "                <td>0.000000e+00</td>\n",
        "                <td></td>\n",
        "                <td></td>\n",
        "                <td></td>\n",
        "            </tr>\n",
        "            \n",
        "            <tr>\n",
        "                <td>3</td>\n",
        "                <td>c</td>\n",
        "                <td>3.544285e+00</td>\n",
        "                <td>1.310163e-01</td>\n",
        "                <td>0.000000e+00</td>\n",
        "                <td>0.000000e+00</td>\n",
        "                <td></td>\n",
        "                <td></td>\n",
        "                <td></td>\n",
        "            </tr>\n",
        "            \n",
        "            <tr>\n",
        "                <td>4</td>\n",
        "                <td>nbg</td>\n",
        "                <td>1.991538e+04</td>\n",
        "                <td>1.633711e+02</td>\n",
        "                <td>0.000000e+00</td>\n",
        "                <td>0.000000e+00</td>\n",
        "                <td></td>\n",
        "                <td></td>\n",
        "                <td></td>\n",
        "            </tr>\n",
        "            \n",
        "            <tr>\n",
        "                <td>5</td>\n",
        "                <td>mu1</td>\n",
        "                <td>-1.479097e-03</td>\n",
        "                <td>4.663990e-03</td>\n",
        "                <td>0.000000e+00</td>\n",
        "                <td>0.000000e+00</td>\n",
        "                <td></td>\n",
        "                <td></td>\n",
        "                <td></td>\n",
        "            </tr>\n",
        "            \n",
        "            <tr>\n",
        "                <td>6</td>\n",
        "                <td>sigma1</td>\n",
        "                <td>1.962934e-01</td>\n",
        "                <td>4.062938e-03</td>\n",
        "                <td>0.000000e+00</td>\n",
        "                <td>0.000000e+00</td>\n",
        "                <td></td>\n",
        "                <td></td>\n",
        "                <td></td>\n",
        "            </tr>\n",
        "            \n",
        "            <tr>\n",
        "                <td>7</td>\n",
        "                <td>nsig1</td>\n",
        "                <td>2.989627e+03</td>\n",
        "                <td>6.936758e+01</td>\n",
        "                <td>0.000000e+00</td>\n",
        "                <td>0.000000e+00</td>\n",
        "                <td></td>\n",
        "                <td></td>\n",
        "                <td></td>\n",
        "            </tr>\n",
        "            \n",
        "            <tr>\n",
        "                <td>8</td>\n",
        "                <td>mu2</td>\n",
        "                <td>4.003400e+00</td>\n",
        "                <td>2.078124e-03</td>\n",
        "                <td>0.000000e+00</td>\n",
        "                <td>0.000000e+00</td>\n",
        "                <td></td>\n",
        "                <td></td>\n",
        "                <td></td>\n",
        "            </tr>\n",
        "            \n",
        "            <tr>\n",
        "                <td>9</td>\n",
        "                <td>sigma2</td>\n",
        "                <td>9.867706e-02</td>\n",
        "                <td>1.988008e-03</td>\n",
        "                <td>0.000000e+00</td>\n",
        "                <td>0.000000e+00</td>\n",
        "                <td></td>\n",
        "                <td></td>\n",
        "                <td></td>\n",
        "            </tr>\n",
        "            \n",
        "            <tr>\n",
        "                <td>10</td>\n",
        "                <td>nsig2</td>\n",
        "                <td>5.050094e+03</td>\n",
        "                <td>1.004303e+02</td>\n",
        "                <td>0.000000e+00</td>\n",
        "                <td>0.000000e+00</td>\n",
        "                <td></td>\n",
        "                <td></td>\n",
        "                <td></td>\n",
        "            </tr>\n",
        "            \n",
        "            </table>\n",
        "        \n",
        "            <pre id=\"VVdoAKYZkK\" style=\"display:none;\">\n",
        "            <textarea rows=\"26\" cols=\"50\" onclick=\"this.select()\" readonly>\\begin{tabular}{|c|r|r|r|r|r|r|r|c|}\n",
        "\\hline\n",
        " & Name & Value & Para Error & Error+ & Error- & Limit+ & Limit- & FIXED\\\\\n",
        "\\hline\n",
        "1 & a & 8.328e-01 & 4.685e-02 &  &  &  &  & \\\\\n",
        "\\hline\n",
        "2 & b & 3.637e+00 & 1.244e-01 &  &  &  &  & \\\\\n",
        "\\hline\n",
        "3 & c & 3.544e+00 & 1.310e-01 &  &  &  &  & \\\\\n",
        "\\hline\n",
        "4 & nbg & 1.992e+04 & 1.634e+02 &  &  &  &  & \\\\\n",
        "\\hline\n",
        "5 & mu1 & -1.479e-03 & 4.664e-03 &  &  &  &  & \\\\\n",
        "\\hline\n",
        "6 & sigma1 & 1.963e-01 & 4.063e-03 &  &  &  &  & \\\\\n",
        "\\hline\n",
        "7 & nsig1 & 2.990e+03 & 6.937e+01 &  &  &  &  & \\\\\n",
        "\\hline\n",
        "8 & mu2 & 4.003e+00 & 2.078e-03 &  &  &  &  & \\\\\n",
        "\\hline\n",
        "9 & sigma2 & 9.868e-02 & 1.988e-03 &  &  &  &  & \\\\\n",
        "\\hline\n",
        "10 & nsig2 & 5.050e+03 & 1.004e+02 &  &  &  &  & \\\\\n",
        "\\hline\n",
        "\\end{tabular}</textarea>\n",
        "            </pre>\n",
        "            "
       ],
       "output_type": "display_data"
      },
      {
       "html": [
        "<hr>"
       ],
       "output_type": "display_data"
      }
     ],
     "prompt_number": 64
    },
    {
     "cell_type": "markdown",
     "metadata": {},
     "source": [
      "##Advance: Custom cost function and Simultaneous Fit\n",
      "\n",
      "Sometimes, what we want to fit is the sum of likelihood /chi^2 of two PDF sharing some parameters.\n",
      "dist_fit doesn't provied a built_in facility to do this but it can be built easily.\n",
      "\n",
      "In this example, we will fit two gaussian distribution where we know that the width are the same\n",
      "but the peak is at different places."
     ]
    },
    {
     "cell_type": "code",
     "collapsed": false,
     "input": [
      "import numpy.random as npr\n",
      "from probfit import UnbinnedLH, gaussian, describe, draw_compare_hist\n",
      "import iminuit"
     ],
     "language": "python",
     "metadata": {},
     "outputs": [],
     "prompt_number": 65
    },
    {
     "cell_type": "code",
     "collapsed": false,
     "input": [
      "npr.seed(0)\n",
      "#Lets make two gaussian\n",
      "data1 = npr.randn(10000)+3\n",
      "data2 = npr.randn(10000)-2\n",
      "hist([data1,data2],bins=100,histtype='step',label=['data1','data2']);"
     ],
     "language": "python",
     "metadata": {},
     "outputs": [
      {
       "output_type": "display_data",
       "png": "[encoded data removed]",
       "text": [
        "<matplotlib.figure.Figure at 0x1057543d0>"
       ]
      }
     ],
     "prompt_number": 66
    },
    {
     "cell_type": "code",
     "collapsed": false,
     "input": [
      "#remember this is nothing special about builtin cost function\n",
      "#except some utility function like draw and show\n",
      "ulh1 = UnbinnedLH(gaussian,data1)\n",
      "ulh2 = UnbinnedLH(gaussian,data2)\n",
      "print describe(ulh1)\n",
      "print describe(ulh2)"
     ],
     "language": "python",
     "metadata": {},
     "outputs": [
      {
       "output_type": "stream",
       "stream": "stdout",
       "text": [
        "['mean', 'sigma']\n",
        "['mean', 'sigma']\n"
       ]
      }
     ],
     "prompt_number": 67
    },
    {
     "cell_type": "code",
     "collapsed": false,
     "input": [
      "#you can also use cython to do this\n",
      "class CustomCost:\n",
      "    def __init__(self,pdf1,data1,pdf2,data2):\n",
      "        self.ulh1 = UnbinnedLH(pdf1,data1)\n",
      "        self.ulh2 = UnbinnedLH(pdf2,data2)\n",
      "    #this is the important part you need __call__ to calculate your cost\n",
      "    #in our case it's sum of likelihood with sigma\n",
      "    def __call__(self,mu1,mu2,sigma):\n",
      "        return self.ulh1(mu1,sigma)+self.ulh2(mu2,sigma)"
     ],
     "language": "python",
     "metadata": {},
     "outputs": [],
     "prompt_number": 68
    },
    {
     "cell_type": "code",
     "collapsed": false,
     "input": [
      "simul_lh = CustomCost(gaussian,data1,gaussian,data2)"
     ],
     "language": "python",
     "metadata": {},
     "outputs": [],
     "prompt_number": 69
    },
    {
     "cell_type": "code",
     "collapsed": false,
     "input": [
      "minimizer = iminuit.Minuit(simul_lh,sigma=0.5)\n",
      "minimizer.set_up(0.5)#remember it's likelihood\n",
      "minimizer.migrad();"
     ],
     "language": "python",
     "metadata": {},
     "outputs": [
      {
       "output_type": "stream",
       "stream": "stderr",
       "text": [
        "-c:1: InitialParamWarning: errordef is not given. Default to 1.\n",
        "-c:1: InitialParamWarning: Parameter mu1 does not have initial value. Assume 0.\n",
        "-c:1: InitialParamWarning: Parameter mu1 is floating but does not have initial step size. Assume 1.\n",
        "-c:1: InitialParamWarning: Parameter mu2 does not have initial value. Assume 0.\n",
        "-c:1: InitialParamWarning: Parameter mu2 is floating but does not have initial step size. Assume 1.\n",
        "-c:1: InitialParamWarning: Parameter sigma is floating but does not have initial step size. Assume 1.\n"
       ]
      },
      {
       "html": [
        "<hr>"
       ],
       "output_type": "display_data"
      },
      {
       "html": [
        "\n",
        "        <table>\n",
        "            <tr>\n",
        "                <td title=\"Minimum value of function\">FCN = 28184.0142876</td>\n",
        "                <td title=\"Total number of call to FCN so far\">TOTAL NCALL = 97</td>\n",
        "                <td title=\"Number of call in last migrad\">NCALLS = 97</td>\n",
        "            </tr>\n",
        "            <tr>\n",
        "                <td title=\"Estimated distance to minimum\">EDM = 2.24683294143e-09</td>\n",
        "                <td title=\"Maximum EDM definition of convergence\">GOAL EDM = 5e-06</td>\n",
        "                <td title=\"Error def. Amount of increase in FCN to be defined as 1 standard deviation\">\n",
        "                UP = 0.5</td>\n",
        "            </tr>\n",
        "        </table>\n",
        "        \n",
        "        <table>\n",
        "            <tr>\n",
        "                <td align=\"center\" title=\"Validity of the migrad call\">Valid</td>\n",
        "                <td align=\"center\" title=\"Validity of parameters\">Valid Param</td>\n",
        "                <td align=\"center\" title=\"Is Covariance matrix accurate?\">Accurate Covar</td>\n",
        "                <td align=\"center\" title=\"Positive definiteness of covariance matrix\">PosDef</td>\n",
        "                <td align=\"center\" title=\"Was covariance matrix made posdef by adding diagonal element\">Made PosDef</td>\n",
        "            </tr>\n",
        "            <tr>\n",
        "                <td align=\"center\" style=\"background-color:#92CCA6\">True</td>\n",
        "                <td align=\"center\" style=\"background-color:#92CCA6\">True</td>\n",
        "                <td align=\"center\" style=\"background-color:#92CCA6\">True</td>\n",
        "                <td align=\"center\" style=\"background-color:#92CCA6\">True</td>\n",
        "                <td align=\"center\" style=\"background-color:#92CCA6\">False</td>\n",
        "            </tr>\n",
        "            <tr>\n",
        "                <td align=\"center\" title=\"Was last hesse call fail?\">Hesse Fail</td>\n",
        "                <td align=\"center\" title=\"Validity of covariance\">HasCov</td>\n",
        "                <td align=\"center\" title=\"Is EDM above goal EDM?\">Above EDM</td>\n",
        "                <td align=\"center\"></td>\n",
        "                <td align=\"center\" title=\"Did last migrad call reach max call limit?\">Reach calllim</td>\n",
        "            </tr>\n",
        "            <tr>\n",
        "                <td align=\"center\" style=\"background-color:#92CCA6\">False</td>\n",
        "                <td align=\"center\" style=\"background-color:#92CCA6\">True</td>\n",
        "                <td align=\"center\" style=\"background-color:#92CCA6\">False</td>\n",
        "                <td align=\"center\"></td>\n",
        "                <td align=\"center\" style=\"background-color:#92CCA6\">False</td>\n",
        "            </tr>\n",
        "        </table>\n",
        "        "
       ],
       "output_type": "display_data"
      },
      {
       "html": [
        "\n",
        "        <table>\n",
        "            <tr>\n",
        "                <td><a href=\"#\" onclick=\"$('#crLbWlBiUv').toggle()\">+</a></td>\n",
        "                <td title=\"Variable name\">Name</td>\n",
        "                <td title=\"Value of parameter\">Value</td>\n",
        "                <td title=\"Parabolic error\">Parab Error</td>\n",
        "                <td title=\"Minos lower error\">Minos Error-</td>\n",
        "                <td title=\"Minos upper error\">Minos Error+</td>\n",
        "                <td title=\"Lower limit of the parameter\">Limit-</td>\n",
        "                <td title=\"Upper limit of the parameter\">Limit+</td>\n",
        "                <td title=\"Is the parameter fixed in the fit\">FIXED</td>\n",
        "            </tr>\n",
        "        \n",
        "            <tr>\n",
        "                <td>1</td>\n",
        "                <td>mu1</td>\n",
        "                <td>2.981566e+00</td>\n",
        "                <td>9.903099e-03</td>\n",
        "                <td>0.000000e+00</td>\n",
        "                <td>0.000000e+00</td>\n",
        "                <td></td>\n",
        "                <td></td>\n",
        "                <td></td>\n",
        "            </tr>\n",
        "            \n",
        "            <tr>\n",
        "                <td>2</td>\n",
        "                <td>mu2</td>\n",
        "                <td>-1.989012e+00</td>\n",
        "                <td>9.903099e-03</td>\n",
        "                <td>0.000000e+00</td>\n",
        "                <td>0.000000e+00</td>\n",
        "                <td></td>\n",
        "                <td></td>\n",
        "                <td></td>\n",
        "            </tr>\n",
        "            \n",
        "            <tr>\n",
        "                <td>3</td>\n",
        "                <td>sigma</td>\n",
        "                <td>9.903098e-01</td>\n",
        "                <td>4.951551e-03</td>\n",
        "                <td>0.000000e+00</td>\n",
        "                <td>0.000000e+00</td>\n",
        "                <td></td>\n",
        "                <td></td>\n",
        "                <td></td>\n",
        "            </tr>\n",
        "            \n",
        "            </table>\n",
        "        \n",
        "            <pre id=\"crLbWlBiUv\" style=\"display:none;\">\n",
        "            <textarea rows=\"12\" cols=\"50\" onclick=\"this.select()\" readonly>\\begin{tabular}{|c|r|r|r|r|r|r|r|c|}\n",
        "\\hline\n",
        " & Name & Value & Para Error & Error+ & Error- & Limit+ & Limit- & FIXED\\\\\n",
        "\\hline\n",
        "1 & mu1 & 2.982e+00 & 9.903e-03 &  &  &  &  & \\\\\n",
        "\\hline\n",
        "2 & mu2 & -1.989e+00 & 9.903e-03 &  &  &  &  & \\\\\n",
        "\\hline\n",
        "3 & $\\sigma$ & 9.903e-01 & 4.952e-03 &  &  &  &  & \\\\\n",
        "\\hline\n",
        "\\end{tabular}</textarea>\n",
        "            </pre>\n",
        "            "
       ],
       "output_type": "display_data"
      },
      {
       "html": [
        "<hr>"
       ],
       "output_type": "display_data"
      }
     ],
     "prompt_number": 70
    },
    {
     "cell_type": "code",
     "collapsed": false,
     "input": [
      "minimizer.print_fmin()\n",
      "minimizer.print_matrix()\n",
      "results = minimizer.values"
     ],
     "language": "python",
     "metadata": {},
     "outputs": [
      {
       "html": [
        "<hr>"
       ],
       "output_type": "display_data"
      },
      {
       "html": [
        "\n",
        "        <table>\n",
        "            <tr>\n",
        "                <td title=\"Minimum value of function\">FCN = 28184.0142876</td>\n",
        "                <td title=\"Total number of call to FCN so far\">TOTAL NCALL = 97</td>\n",
        "                <td title=\"Number of call in last migrad\">NCALLS = 97</td>\n",
        "            </tr>\n",
        "            <tr>\n",
        "                <td title=\"Estimated distance to minimum\">EDM = 2.24683294143e-09</td>\n",
        "                <td title=\"Maximum EDM definition of convergence\">GOAL EDM = 5e-06</td>\n",
        "                <td title=\"Error def. Amount of increase in FCN to be defined as 1 standard deviation\">\n",
        "                UP = 0.5</td>\n",
        "            </tr>\n",
        "        </table>\n",
        "        \n",
        "        <table>\n",
        "            <tr>\n",
        "                <td align=\"center\" title=\"Validity of the migrad call\">Valid</td>\n",
        "                <td align=\"center\" title=\"Validity of parameters\">Valid Param</td>\n",
        "                <td align=\"center\" title=\"Is Covariance matrix accurate?\">Accurate Covar</td>\n",
        "                <td align=\"center\" title=\"Positive definiteness of covariance matrix\">PosDef</td>\n",
        "                <td align=\"center\" title=\"Was covariance matrix made posdef by adding diagonal element\">Made PosDef</td>\n",
        "            </tr>\n",
        "            <tr>\n",
        "                <td align=\"center\" style=\"background-color:#92CCA6\">True</td>\n",
        "                <td align=\"center\" style=\"background-color:#92CCA6\">True</td>\n",
        "                <td align=\"center\" style=\"background-color:#92CCA6\">True</td>\n",
        "                <td align=\"center\" style=\"background-color:#92CCA6\">True</td>\n",
        "                <td align=\"center\" style=\"background-color:#92CCA6\">False</td>\n",
        "            </tr>\n",
        "            <tr>\n",
        "                <td align=\"center\" title=\"Was last hesse call fail?\">Hesse Fail</td>\n",
        "                <td align=\"center\" title=\"Validity of covariance\">HasCov</td>\n",
        "                <td align=\"center\" title=\"Is EDM above goal EDM?\">Above EDM</td>\n",
        "                <td align=\"center\"></td>\n",
        "                <td align=\"center\" title=\"Did last migrad call reach max call limit?\">Reach calllim</td>\n",
        "            </tr>\n",
        "            <tr>\n",
        "                <td align=\"center\" style=\"background-color:#92CCA6\">False</td>\n",
        "                <td align=\"center\" style=\"background-color:#92CCA6\">True</td>\n",
        "                <td align=\"center\" style=\"background-color:#92CCA6\">False</td>\n",
        "                <td align=\"center\"></td>\n",
        "                <td align=\"center\" style=\"background-color:#92CCA6\">False</td>\n",
        "            </tr>\n",
        "        </table>\n",
        "        "
       ],
       "output_type": "display_data"
      },
      {
       "html": [
        "\n",
        "        <table>\n",
        "            <tr>\n",
        "                <td><a href=\"#\" onclick=\"$('#oUEQDMsxbI').toggle()\">+</a></td>\n",
        "                <td title=\"Variable name\">Name</td>\n",
        "                <td title=\"Value of parameter\">Value</td>\n",
        "                <td title=\"Parabolic error\">Parab Error</td>\n",
        "                <td title=\"Minos lower error\">Minos Error-</td>\n",
        "                <td title=\"Minos upper error\">Minos Error+</td>\n",
        "                <td title=\"Lower limit of the parameter\">Limit-</td>\n",
        "                <td title=\"Upper limit of the parameter\">Limit+</td>\n",
        "                <td title=\"Is the parameter fixed in the fit\">FIXED</td>\n",
        "            </tr>\n",
        "        \n",
        "            <tr>\n",
        "                <td>1</td>\n",
        "                <td>mu1</td>\n",
        "                <td>2.981566e+00</td>\n",
        "                <td>9.903099e-03</td>\n",
        "                <td>0.000000e+00</td>\n",
        "                <td>0.000000e+00</td>\n",
        "                <td></td>\n",
        "                <td></td>\n",
        "                <td></td>\n",
        "            </tr>\n",
        "            \n",
        "            <tr>\n",
        "                <td>2</td>\n",
        "                <td>mu2</td>\n",
        "                <td>-1.989012e+00</td>\n",
        "                <td>9.903099e-03</td>\n",
        "                <td>0.000000e+00</td>\n",
        "                <td>0.000000e+00</td>\n",
        "                <td></td>\n",
        "                <td></td>\n",
        "                <td></td>\n",
        "            </tr>\n",
        "            \n",
        "            <tr>\n",
        "                <td>3</td>\n",
        "                <td>sigma</td>\n",
        "                <td>9.903098e-01</td>\n",
        "                <td>4.951551e-03</td>\n",
        "                <td>0.000000e+00</td>\n",
        "                <td>0.000000e+00</td>\n",
        "                <td></td>\n",
        "                <td></td>\n",
        "                <td></td>\n",
        "            </tr>\n",
        "            \n",
        "            </table>\n",
        "        \n",
        "            <pre id=\"oUEQDMsxbI\" style=\"display:none;\">\n",
        "            <textarea rows=\"12\" cols=\"50\" onclick=\"this.select()\" readonly>\\begin{tabular}{|c|r|r|r|r|r|r|r|c|}\n",
        "\\hline\n",
        " & Name & Value & Para Error & Error+ & Error- & Limit+ & Limit- & FIXED\\\\\n",
        "\\hline\n",
        "1 & mu1 & 2.982e+00 & 9.903e-03 &  &  &  &  & \\\\\n",
        "\\hline\n",
        "2 & mu2 & -1.989e+00 & 9.903e-03 &  &  &  &  & \\\\\n",
        "\\hline\n",
        "3 & $\\sigma$ & 9.903e-01 & 4.952e-03 &  &  &  &  & \\\\\n",
        "\\hline\n",
        "\\end{tabular}</textarea>\n",
        "            </pre>\n",
        "            "
       ],
       "output_type": "display_data"
      },
      {
       "html": [
        "<hr>"
       ],
       "output_type": "display_data"
      },
      {
       "html": [
        "\n",
        "            <table>\n",
        "                <tr>\n",
        "                    <td><a onclick=\"$('#VauaUhzVmp').toggle()\" href=\"#\">+</a></td>\n",
        "        \n",
        "            <td>\n",
        "            <div style=\"width:20px;position:relative; width: -moz-fit-content;\">\n",
        "            <div style=\"display:inline-block;-webkit-writing-mode:vertical-rl;-moz-writing-mode: vertical-rl;writing-mode: vertical-rl;\">\n",
        "            mu1\n",
        "            </div>\n",
        "            </div>\n",
        "            </td>\n",
        "            \n",
        "            <td>\n",
        "            <div style=\"width:20px;position:relative; width: -moz-fit-content;\">\n",
        "            <div style=\"display:inline-block;-webkit-writing-mode:vertical-rl;-moz-writing-mode: vertical-rl;writing-mode: vertical-rl;\">\n",
        "            mu2\n",
        "            </div>\n",
        "            </div>\n",
        "            </td>\n",
        "            \n",
        "            <td>\n",
        "            <div style=\"width:20px;position:relative; width: -moz-fit-content;\">\n",
        "            <div style=\"display:inline-block;-webkit-writing-mode:vertical-rl;-moz-writing-mode: vertical-rl;writing-mode: vertical-rl;\">\n",
        "            sigma\n",
        "            </div>\n",
        "            </div>\n",
        "            </td>\n",
        "            \n",
        "                </tr>\n",
        "                \n",
        "            <tr>\n",
        "                <td>mu1</td>\n",
        "            \n",
        "                <td style=\"background-color:rgb(255,117,117)\">\n",
        "                1.00\n",
        "                </td>\n",
        "                \n",
        "                <td style=\"background-color:rgb(163,254,186)\">\n",
        "                0.00\n",
        "                </td>\n",
        "                \n",
        "                <td style=\"background-color:rgb(163,254,186)\">\n",
        "                0.00\n",
        "                </td>\n",
        "                \n",
        "            </tr>\n",
        "            \n",
        "            <tr>\n",
        "                <td>mu2</td>\n",
        "            \n",
        "                <td style=\"background-color:rgb(163,254,186)\">\n",
        "                0.00\n",
        "                </td>\n",
        "                \n",
        "                <td style=\"background-color:rgb(255,117,117)\">\n",
        "                1.00\n",
        "                </td>\n",
        "                \n",
        "                <td style=\"background-color:rgb(163,254,186)\">\n",
        "                0.00\n",
        "                </td>\n",
        "                \n",
        "            </tr>\n",
        "            \n",
        "            <tr>\n",
        "                <td>sigma</td>\n",
        "            \n",
        "                <td style=\"background-color:rgb(163,254,186)\">\n",
        "                0.00\n",
        "                </td>\n",
        "                \n",
        "                <td style=\"background-color:rgb(163,254,186)\">\n",
        "                0.00\n",
        "                </td>\n",
        "                \n",
        "                <td style=\"background-color:rgb(255,117,117)\">\n",
        "                1.00\n",
        "                </td>\n",
        "                \n",
        "            </tr>\n",
        "            </table>\n",
        "\n",
        "            <pre id=\"VauaUhzVmp\" style=\"display:none;\">\n",
        "            <textarea rows=\"15\" cols=\"50\" onclick=\"this.select()\" readonly>%\\usepackage[table]{xcolor} % include this for color\n",
        "%\\usepackage{rotating} % include this for rotate header\n",
        "%\\documentclass[xcolor=table]{beamer} % for beamer\n",
        "\\begin{tabular}{|c|c|c|c|}\n",
        "\\hline\n",
        "\\rotatebox{90}{} & \\rotatebox{90}{mu1} & \\rotatebox{90}{mu2} & \\rotatebox{90}{$\\sigma$}\\\\\n",
        "\\hline\n",
        "mu1 & \\cellcolor[RGB]{255,117,117} 1.00 & \\cellcolor[RGB]{163,254,186} 0.00 & \\cellcolor[RGB]{163,254,186} 0.00\\\\\n",
        "\\hline\n",
        "mu2 & \\cellcolor[RGB]{163,254,186} 0.00 & \\cellcolor[RGB]{255,117,117} 1.00 & \\cellcolor[RGB]{163,254,186} 0.00\\\\\n",
        "\\hline\n",
        "$\\sigma$ & \\cellcolor[RGB]{163,254,186} 0.00 & \\cellcolor[RGB]{163,254,186} 0.00 & \\cellcolor[RGB]{255,117,117} 1.00\\\\\n",
        "\\hline\n",
        "\\end{tabular}</textarea>\n",
        "            </pre>\n",
        "            "
       ],
       "output_type": "display_data"
      }
     ],
     "prompt_number": 71
    },
    {
     "cell_type": "code",
     "collapsed": false,
     "input": [
      "draw_compare_hist(gaussian,[results['mu1'],results['sigma']],data1,normed=True);\n",
      "draw_compare_hist(gaussian,[results['mu2'],results['sigma']],data2,normed=True);"
     ],
     "language": "python",
     "metadata": {},
     "outputs": [
      {
       "output_type": "display_data",
       "png": "[encoded data removed]",
       "text": [
        "<matplotlib.figure.Figure at 0x1054d2c90>"
       ]
      }
     ],
     "prompt_number": 72
    },
    {
     "cell_type": "code",
     "collapsed": false,
     "input": [],
     "language": "python",
     "metadata": {},
     "outputs": [],
     "prompt_number": 72
    }
   ],
   "metadata": {}
  }
 ]
}